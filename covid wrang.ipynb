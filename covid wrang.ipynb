{
 "cells": [
  {
   "cell_type": "code",
   "execution_count": 160,
   "metadata": {},
   "outputs": [],
   "source": [
    "import pandas as pd\n",
    "import numpy as np\n",
    "import seaborn as sns\n",
    "import matplotlib.pyplot as plt\n",
    "%matplotlib inline\n",
    "import math\n",
    "import os\n",
    "import string"
   ]
  },
  {
   "cell_type": "markdown",
   "metadata": {},
   "source": [
    "# LIST OF FILES "
   ]
  },
  {
   "cell_type": "code",
   "execution_count": 161,
   "metadata": {},
   "outputs": [],
   "source": [
    "files=os.listdir(r'C:\\Users\\CRUISE\\Desktop\\coviddata')"
   ]
  },
  {
   "cell_type": "markdown",
   "metadata": {},
   "source": [
    "# COVID FILES"
   ]
  },
  {
   "cell_type": "code",
   "execution_count": 162,
   "metadata": {},
   "outputs": [],
   "source": [
    "covid=[file for file in files if file[:5] == \"covid\"]"
   ]
  },
  {
   "cell_type": "markdown",
   "metadata": {},
   "source": [
    "# MAY COVID FILES"
   ]
  },
  {
   "cell_type": "code",
   "execution_count": 163,
   "metadata": {},
   "outputs": [],
   "source": [
    "maycovid=[file for file in covid if \"May\" in file] "
   ]
  },
  {
   "cell_type": "markdown",
   "metadata": {},
   "source": [
    "# APRIL COVID FILES"
   ]
  },
  {
   "cell_type": "code",
   "execution_count": 164,
   "metadata": {},
   "outputs": [],
   "source": [
    "aprilcovid=[file for file in covid if \"Apr\" in file] "
   ]
  },
  {
   "cell_type": "markdown",
   "metadata": {},
   "source": [
    "# COVID 11PM PLUS FILES"
   ]
  },
  {
   "cell_type": "code",
   "execution_count": 165,
   "metadata": {},
   "outputs": [],
   "source": [
    "covid11pm_plus=[file for file in covid if \"23\" in file[-13:-10]]"
   ]
  },
  {
   "cell_type": "code",
   "execution_count": 166,
   "metadata": {},
   "outputs": [],
   "source": [
    "df_files=[]\n",
    "\n",
    "\n",
    "for file1 in covid11pm_plus:\n",
    "    df=pd.read_csv(r'C:\\Users\\CRUISE\\Desktop\\coviddata'+\"\\\\\"+file1)\n",
    "    df_files.append(df)\n",
    "    \n",
    "covid11pm_plusnew=pd.concat(df_files, ignore_index=True,sort=False)\n",
    "\n",
    "covid11pm_plusnew.to_csv(\"final.csv\")"
   ]
  },
  {
   "cell_type": "code",
   "execution_count": 167,
   "metadata": {},
   "outputs": [
    {
     "data": {
      "text/html": [
       "<div>\n",
       "<style scoped>\n",
       "    .dataframe tbody tr th:only-of-type {\n",
       "        vertical-align: middle;\n",
       "    }\n",
       "\n",
       "    .dataframe tbody tr th {\n",
       "        vertical-align: top;\n",
       "    }\n",
       "\n",
       "    .dataframe thead th {\n",
       "        text-align: right;\n",
       "    }\n",
       "</style>\n",
       "<table border=\"1\" class=\"dataframe\">\n",
       "  <thead>\n",
       "    <tr style=\"text-align: right;\">\n",
       "      <th></th>\n",
       "      <th>countries</th>\n",
       "      <th>infected</th>\n",
       "      <th>infected_today</th>\n",
       "      <th>deaths</th>\n",
       "      <th>deaths_today</th>\n",
       "      <th>recovered</th>\n",
       "      <th>recovered_today</th>\n",
       "      <th>active</th>\n",
       "      <th>critical</th>\n",
       "      <th>tests</th>\n",
       "      <th>death_rate</th>\n",
       "      <th>recovery_rate</th>\n",
       "    </tr>\n",
       "  </thead>\n",
       "  <tbody>\n",
       "    <tr>\n",
       "      <td>0</td>\n",
       "      <td>United States</td>\n",
       "      <td>1129882</td>\n",
       "      <td>35152.0</td>\n",
       "      <td>65724</td>\n",
       "      <td>1883.0</td>\n",
       "      <td>161551</td>\n",
       "      <td>9227.0</td>\n",
       "      <td>902607</td>\n",
       "      <td>16478.0</td>\n",
       "      <td>6690837.0</td>\n",
       "      <td>5.8</td>\n",
       "      <td>14.3</td>\n",
       "    </tr>\n",
       "    <tr>\n",
       "      <td>1</td>\n",
       "      <td>Spain</td>\n",
       "      <td>242988</td>\n",
       "      <td>3349.0</td>\n",
       "      <td>24824</td>\n",
       "      <td>281.0</td>\n",
       "      <td>142450</td>\n",
       "      <td>4466.0</td>\n",
       "      <td>75714</td>\n",
       "      <td>2500.0</td>\n",
       "      <td>1528833.0</td>\n",
       "      <td>10.2</td>\n",
       "      <td>58.6</td>\n",
       "    </tr>\n",
       "    <tr>\n",
       "      <td>2</td>\n",
       "      <td>Italy</td>\n",
       "      <td>207428</td>\n",
       "      <td>1965.0</td>\n",
       "      <td>28236</td>\n",
       "      <td>269.0</td>\n",
       "      <td>78249</td>\n",
       "      <td>2304.0</td>\n",
       "      <td>100943</td>\n",
       "      <td>1578.0</td>\n",
       "      <td>2053425.0</td>\n",
       "      <td>13.6</td>\n",
       "      <td>37.7</td>\n",
       "    </tr>\n",
       "    <tr>\n",
       "      <td>3</td>\n",
       "      <td>United Kingdom</td>\n",
       "      <td>178566</td>\n",
       "      <td>6206.0</td>\n",
       "      <td>27579</td>\n",
       "      <td>741.0</td>\n",
       "      <td>856</td>\n",
       "      <td>31.0</td>\n",
       "      <td>150131</td>\n",
       "      <td>1559.0</td>\n",
       "      <td>1023824.0</td>\n",
       "      <td>15.4</td>\n",
       "      <td>0.5</td>\n",
       "    </tr>\n",
       "    <tr>\n",
       "      <td>4</td>\n",
       "      <td>France</td>\n",
       "      <td>167346</td>\n",
       "      <td>168.0</td>\n",
       "      <td>24594</td>\n",
       "      <td>218.0</td>\n",
       "      <td>50212</td>\n",
       "      <td>736.0</td>\n",
       "      <td>92540</td>\n",
       "      <td>3878.0</td>\n",
       "      <td>1100228.0</td>\n",
       "      <td>14.7</td>\n",
       "      <td>30.0</td>\n",
       "    </tr>\n",
       "  </tbody>\n",
       "</table>\n",
       "</div>"
      ],
      "text/plain": [
       "        countries  infected  infected_today  deaths  deaths_today  recovered  \\\n",
       "0   United States   1129882         35152.0   65724        1883.0     161551   \n",
       "1           Spain    242988          3349.0   24824         281.0     142450   \n",
       "2           Italy    207428          1965.0   28236         269.0      78249   \n",
       "3  United Kingdom    178566          6206.0   27579         741.0        856   \n",
       "4          France    167346           168.0   24594         218.0      50212   \n",
       "\n",
       "   recovered_today  active  critical      tests  death_rate  recovery_rate  \n",
       "0           9227.0  902607   16478.0  6690837.0         5.8           14.3  \n",
       "1           4466.0   75714    2500.0  1528833.0        10.2           58.6  \n",
       "2           2304.0  100943    1578.0  2053425.0        13.6           37.7  \n",
       "3             31.0  150131    1559.0  1023824.0        15.4            0.5  \n",
       "4            736.0   92540    3878.0  1100228.0        14.7           30.0  "
      ]
     },
     "execution_count": 167,
     "metadata": {},
     "output_type": "execute_result"
    }
   ],
   "source": [
    "covid11pm_plusnew.head()"
   ]
  },
  {
   "cell_type": "markdown",
   "metadata": {},
   "source": [
    "# COVID OTHER TIME FILES"
   ]
  },
  {
   "cell_type": "code",
   "execution_count": 168,
   "metadata": {},
   "outputs": [],
   "source": [
    "covid_others=[file for file in covid if \"23\" not in file[-13:-10]]"
   ]
  },
  {
   "cell_type": "code",
   "execution_count": 169,
   "metadata": {},
   "outputs": [],
   "source": [
    "df2_files=[]\n",
    "\n",
    "\n",
    "for file2 in covid_others:\n",
    "    df2=pd.read_csv(r'C:\\Users\\CRUISE\\Desktop\\coviddata'+\"\\\\\"+file2)\n",
    "    df2_files.append(df2)\n",
    "    \n",
    "covid_othersnew=pd.concat(df2_files, ignore_index=True,sort=False)\n",
    "\n",
    "covid_othersnew.to_csv(\"final2.csv\")"
   ]
  },
  {
   "cell_type": "code",
   "execution_count": 170,
   "metadata": {},
   "outputs": [
    {
     "data": {
      "text/html": [
       "<div>\n",
       "<style scoped>\n",
       "    .dataframe tbody tr th:only-of-type {\n",
       "        vertical-align: middle;\n",
       "    }\n",
       "\n",
       "    .dataframe tbody tr th {\n",
       "        vertical-align: top;\n",
       "    }\n",
       "\n",
       "    .dataframe thead th {\n",
       "        text-align: right;\n",
       "    }\n",
       "</style>\n",
       "<table border=\"1\" class=\"dataframe\">\n",
       "  <thead>\n",
       "    <tr style=\"text-align: right;\">\n",
       "      <th></th>\n",
       "      <th>countries</th>\n",
       "      <th>infected</th>\n",
       "      <th>infected_today</th>\n",
       "      <th>deaths</th>\n",
       "      <th>deaths_today</th>\n",
       "      <th>recovered</th>\n",
       "      <th>recovered_today</th>\n",
       "      <th>active</th>\n",
       "      <th>critical</th>\n",
       "      <th>tests</th>\n",
       "      <th>death_rate</th>\n",
       "      <th>recovery_rate</th>\n",
       "    </tr>\n",
       "  </thead>\n",
       "  <tbody>\n",
       "    <tr>\n",
       "      <td>0</td>\n",
       "      <td>United States</td>\n",
       "      <td>1095304</td>\n",
       "      <td>574.0</td>\n",
       "      <td>63871</td>\n",
       "      <td>30.0</td>\n",
       "      <td>155737</td>\n",
       "      <td>3413.0</td>\n",
       "      <td>875696</td>\n",
       "      <td>15226.0</td>\n",
       "      <td>6391887.0</td>\n",
       "      <td>5.8</td>\n",
       "      <td>14.2</td>\n",
       "    </tr>\n",
       "    <tr>\n",
       "      <td>1</td>\n",
       "      <td>Spain</td>\n",
       "      <td>239639</td>\n",
       "      <td>0.0</td>\n",
       "      <td>24543</td>\n",
       "      <td>0.0</td>\n",
       "      <td>137984</td>\n",
       "      <td>0.0</td>\n",
       "      <td>77112</td>\n",
       "      <td>2676.0</td>\n",
       "      <td>1455306.0</td>\n",
       "      <td>10.2</td>\n",
       "      <td>57.6</td>\n",
       "    </tr>\n",
       "    <tr>\n",
       "      <td>2</td>\n",
       "      <td>Italy</td>\n",
       "      <td>205463</td>\n",
       "      <td>0.0</td>\n",
       "      <td>27967</td>\n",
       "      <td>0.0</td>\n",
       "      <td>75945</td>\n",
       "      <td>0.0</td>\n",
       "      <td>101551</td>\n",
       "      <td>1694.0</td>\n",
       "      <td>1979217.0</td>\n",
       "      <td>13.6</td>\n",
       "      <td>37.0</td>\n",
       "    </tr>\n",
       "    <tr>\n",
       "      <td>3</td>\n",
       "      <td>United Kingdom</td>\n",
       "      <td>172363</td>\n",
       "      <td>3.0</td>\n",
       "      <td>26838</td>\n",
       "      <td>0.0</td>\n",
       "      <td>825</td>\n",
       "      <td>0.0</td>\n",
       "      <td>144700</td>\n",
       "      <td>1559.0</td>\n",
       "      <td>901905.0</td>\n",
       "      <td>15.6</td>\n",
       "      <td>0.5</td>\n",
       "    </tr>\n",
       "    <tr>\n",
       "      <td>4</td>\n",
       "      <td>France</td>\n",
       "      <td>167178</td>\n",
       "      <td>0.0</td>\n",
       "      <td>24376</td>\n",
       "      <td>0.0</td>\n",
       "      <td>49476</td>\n",
       "      <td>0.0</td>\n",
       "      <td>93326</td>\n",
       "      <td>4019.0</td>\n",
       "      <td>724574.0</td>\n",
       "      <td>14.6</td>\n",
       "      <td>29.6</td>\n",
       "    </tr>\n",
       "  </tbody>\n",
       "</table>\n",
       "</div>"
      ],
      "text/plain": [
       "        countries  infected  infected_today  deaths  deaths_today  recovered  \\\n",
       "0   United States   1095304           574.0   63871          30.0     155737   \n",
       "1           Spain    239639             0.0   24543           0.0     137984   \n",
       "2           Italy    205463             0.0   27967           0.0      75945   \n",
       "3  United Kingdom    172363             3.0   26838           0.0        825   \n",
       "4          France    167178             0.0   24376           0.0      49476   \n",
       "\n",
       "   recovered_today  active  critical      tests  death_rate  recovery_rate  \n",
       "0           3413.0  875696   15226.0  6391887.0         5.8           14.2  \n",
       "1              0.0   77112    2676.0  1455306.0        10.2           57.6  \n",
       "2              0.0  101551    1694.0  1979217.0        13.6           37.0  \n",
       "3              0.0  144700    1559.0   901905.0        15.6            0.5  \n",
       "4              0.0   93326    4019.0   724574.0        14.6           29.6  "
      ]
     },
     "execution_count": 170,
     "metadata": {},
     "output_type": "execute_result"
    }
   ],
   "source": [
    "covid_othersnew.head()"
   ]
  },
  {
   "cell_type": "markdown",
   "metadata": {},
   "source": [
    "# COVID OTHER TIME: \n",
    "    MAY FILES"
   ]
  },
  {
   "cell_type": "code",
   "execution_count": 171,
   "metadata": {},
   "outputs": [],
   "source": [
    "covidmay_others=[file for file in covid_others if \"May\" in file]"
   ]
  },
  {
   "cell_type": "code",
   "execution_count": 172,
   "metadata": {},
   "outputs": [],
   "source": [
    "df3_files=[]\n",
    "\n",
    "\n",
    "for file3 in covidmay_others:\n",
    "    df3=pd.read_csv(r'C:\\Users\\CRUISE\\Desktop\\coviddata'+\"\\\\\"+file3)\n",
    "    df3_files.append(df3)\n",
    "    \n",
    "covidmay_othersnew=pd.concat(df3_files, ignore_index=True,sort=False)\n",
    "\n",
    "covidmay_othersnew.to_csv(\"final3.csv\")"
   ]
  },
  {
   "cell_type": "code",
   "execution_count": 173,
   "metadata": {},
   "outputs": [
    {
     "data": {
      "text/html": [
       "<div>\n",
       "<style scoped>\n",
       "    .dataframe tbody tr th:only-of-type {\n",
       "        vertical-align: middle;\n",
       "    }\n",
       "\n",
       "    .dataframe tbody tr th {\n",
       "        vertical-align: top;\n",
       "    }\n",
       "\n",
       "    .dataframe thead th {\n",
       "        text-align: right;\n",
       "    }\n",
       "</style>\n",
       "<table border=\"1\" class=\"dataframe\">\n",
       "  <thead>\n",
       "    <tr style=\"text-align: right;\">\n",
       "      <th></th>\n",
       "      <th>countries</th>\n",
       "      <th>infected</th>\n",
       "      <th>infected_today</th>\n",
       "      <th>deaths</th>\n",
       "      <th>deaths_today</th>\n",
       "      <th>recovered</th>\n",
       "      <th>recovered_today</th>\n",
       "      <th>active</th>\n",
       "      <th>critical</th>\n",
       "      <th>tests</th>\n",
       "      <th>death_rate</th>\n",
       "      <th>recovery_rate</th>\n",
       "    </tr>\n",
       "  </thead>\n",
       "  <tbody>\n",
       "    <tr>\n",
       "      <td>0</td>\n",
       "      <td>United States</td>\n",
       "      <td>1095304</td>\n",
       "      <td>574</td>\n",
       "      <td>63871</td>\n",
       "      <td>30</td>\n",
       "      <td>155737</td>\n",
       "      <td>3413</td>\n",
       "      <td>875696</td>\n",
       "      <td>15226</td>\n",
       "      <td>6391887</td>\n",
       "      <td>5.8</td>\n",
       "      <td>14.2</td>\n",
       "    </tr>\n",
       "    <tr>\n",
       "      <td>1</td>\n",
       "      <td>Spain</td>\n",
       "      <td>239639</td>\n",
       "      <td>0</td>\n",
       "      <td>24543</td>\n",
       "      <td>0</td>\n",
       "      <td>137984</td>\n",
       "      <td>0</td>\n",
       "      <td>77112</td>\n",
       "      <td>2676</td>\n",
       "      <td>1455306</td>\n",
       "      <td>10.2</td>\n",
       "      <td>57.6</td>\n",
       "    </tr>\n",
       "    <tr>\n",
       "      <td>2</td>\n",
       "      <td>Italy</td>\n",
       "      <td>205463</td>\n",
       "      <td>0</td>\n",
       "      <td>27967</td>\n",
       "      <td>0</td>\n",
       "      <td>75945</td>\n",
       "      <td>0</td>\n",
       "      <td>101551</td>\n",
       "      <td>1694</td>\n",
       "      <td>1979217</td>\n",
       "      <td>13.6</td>\n",
       "      <td>37.0</td>\n",
       "    </tr>\n",
       "    <tr>\n",
       "      <td>3</td>\n",
       "      <td>United Kingdom</td>\n",
       "      <td>172363</td>\n",
       "      <td>3</td>\n",
       "      <td>26838</td>\n",
       "      <td>0</td>\n",
       "      <td>825</td>\n",
       "      <td>0</td>\n",
       "      <td>144700</td>\n",
       "      <td>1559</td>\n",
       "      <td>901905</td>\n",
       "      <td>15.6</td>\n",
       "      <td>0.5</td>\n",
       "    </tr>\n",
       "    <tr>\n",
       "      <td>4</td>\n",
       "      <td>France</td>\n",
       "      <td>167178</td>\n",
       "      <td>0</td>\n",
       "      <td>24376</td>\n",
       "      <td>0</td>\n",
       "      <td>49476</td>\n",
       "      <td>0</td>\n",
       "      <td>93326</td>\n",
       "      <td>4019</td>\n",
       "      <td>724574</td>\n",
       "      <td>14.6</td>\n",
       "      <td>29.6</td>\n",
       "    </tr>\n",
       "  </tbody>\n",
       "</table>\n",
       "</div>"
      ],
      "text/plain": [
       "        countries  infected  infected_today  deaths  deaths_today  recovered  \\\n",
       "0   United States   1095304             574   63871            30     155737   \n",
       "1           Spain    239639               0   24543             0     137984   \n",
       "2           Italy    205463               0   27967             0      75945   \n",
       "3  United Kingdom    172363               3   26838             0        825   \n",
       "4          France    167178               0   24376             0      49476   \n",
       "\n",
       "   recovered_today  active  critical    tests  death_rate  recovery_rate  \n",
       "0             3413  875696     15226  6391887         5.8           14.2  \n",
       "1                0   77112      2676  1455306        10.2           57.6  \n",
       "2                0  101551      1694  1979217        13.6           37.0  \n",
       "3                0  144700      1559   901905        15.6            0.5  \n",
       "4                0   93326      4019   724574        14.6           29.6  "
      ]
     },
     "execution_count": 173,
     "metadata": {},
     "output_type": "execute_result"
    }
   ],
   "source": [
    "covidmay_othersnew.head()"
   ]
  },
  {
   "cell_type": "markdown",
   "metadata": {},
   "source": [
    "# ITALY CASES FOR MAY"
   ]
  },
  {
   "cell_type": "code",
   "execution_count": 174,
   "metadata": {},
   "outputs": [
    {
     "data": {
      "text/html": [
       "<div>\n",
       "<style scoped>\n",
       "    .dataframe tbody tr th:only-of-type {\n",
       "        vertical-align: middle;\n",
       "    }\n",
       "\n",
       "    .dataframe tbody tr th {\n",
       "        vertical-align: top;\n",
       "    }\n",
       "\n",
       "    .dataframe thead th {\n",
       "        text-align: right;\n",
       "    }\n",
       "</style>\n",
       "<table border=\"1\" class=\"dataframe\">\n",
       "  <thead>\n",
       "    <tr style=\"text-align: right;\">\n",
       "      <th></th>\n",
       "      <th>countries</th>\n",
       "      <th>infected</th>\n",
       "      <th>infected_today</th>\n",
       "      <th>deaths</th>\n",
       "      <th>deaths_today</th>\n",
       "      <th>recovered</th>\n",
       "      <th>recovered_today</th>\n",
       "      <th>active</th>\n",
       "      <th>critical</th>\n",
       "      <th>tests</th>\n",
       "      <th>death_rate</th>\n",
       "      <th>recovery_rate</th>\n",
       "    </tr>\n",
       "  </thead>\n",
       "  <tbody>\n",
       "    <tr>\n",
       "      <td>2</td>\n",
       "      <td>Italy</td>\n",
       "      <td>205463</td>\n",
       "      <td>0</td>\n",
       "      <td>27967</td>\n",
       "      <td>0</td>\n",
       "      <td>75945</td>\n",
       "      <td>0</td>\n",
       "      <td>101551</td>\n",
       "      <td>1694</td>\n",
       "      <td>1979217</td>\n",
       "      <td>13.6</td>\n",
       "      <td>37.0</td>\n",
       "    </tr>\n",
       "    <tr>\n",
       "      <td>218</td>\n",
       "      <td>Italy</td>\n",
       "      <td>207428</td>\n",
       "      <td>0</td>\n",
       "      <td>28236</td>\n",
       "      <td>0</td>\n",
       "      <td>78249</td>\n",
       "      <td>0</td>\n",
       "      <td>100943</td>\n",
       "      <td>1578</td>\n",
       "      <td>2053425</td>\n",
       "      <td>13.6</td>\n",
       "      <td>37.7</td>\n",
       "    </tr>\n",
       "    <tr>\n",
       "      <td>434</td>\n",
       "      <td>Italy</td>\n",
       "      <td>209328</td>\n",
       "      <td>0</td>\n",
       "      <td>28710</td>\n",
       "      <td>0</td>\n",
       "      <td>79914</td>\n",
       "      <td>0</td>\n",
       "      <td>100704</td>\n",
       "      <td>1539</td>\n",
       "      <td>2108837</td>\n",
       "      <td>13.7</td>\n",
       "      <td>38.2</td>\n",
       "    </tr>\n",
       "    <tr>\n",
       "      <td>650</td>\n",
       "      <td>Italy</td>\n",
       "      <td>210717</td>\n",
       "      <td>0</td>\n",
       "      <td>28884</td>\n",
       "      <td>0</td>\n",
       "      <td>81654</td>\n",
       "      <td>0</td>\n",
       "      <td>100179</td>\n",
       "      <td>1501</td>\n",
       "      <td>2153772</td>\n",
       "      <td>13.7</td>\n",
       "      <td>38.8</td>\n",
       "    </tr>\n",
       "    <tr>\n",
       "      <td>866</td>\n",
       "      <td>Italy</td>\n",
       "      <td>211938</td>\n",
       "      <td>0</td>\n",
       "      <td>29079</td>\n",
       "      <td>0</td>\n",
       "      <td>82879</td>\n",
       "      <td>0</td>\n",
       "      <td>99980</td>\n",
       "      <td>1479</td>\n",
       "      <td>2191403</td>\n",
       "      <td>13.7</td>\n",
       "      <td>39.1</td>\n",
       "    </tr>\n",
       "  </tbody>\n",
       "</table>\n",
       "</div>"
      ],
      "text/plain": [
       "    countries  infected  infected_today  deaths  deaths_today  recovered  \\\n",
       "2       Italy    205463               0   27967             0      75945   \n",
       "218     Italy    207428               0   28236             0      78249   \n",
       "434     Italy    209328               0   28710             0      79914   \n",
       "650     Italy    210717               0   28884             0      81654   \n",
       "866     Italy    211938               0   29079             0      82879   \n",
       "\n",
       "     recovered_today  active  critical    tests  death_rate  recovery_rate  \n",
       "2                  0  101551      1694  1979217        13.6           37.0  \n",
       "218                0  100943      1578  2053425        13.6           37.7  \n",
       "434                0  100704      1539  2108837        13.7           38.2  \n",
       "650                0  100179      1501  2153772        13.7           38.8  \n",
       "866                0   99980      1479  2191403        13.7           39.1  "
      ]
     },
     "execution_count": 174,
     "metadata": {},
     "output_type": "execute_result"
    }
   ],
   "source": [
    "covidmay_othersnew[covidmay_othersnew[\"countries\"]==\"Italy\"].head()"
   ]
  },
  {
   "cell_type": "code",
   "execution_count": 175,
   "metadata": {},
   "outputs": [
    {
     "name": "stdout",
     "output_type": "stream",
     "text": [
      "Total cases in Italy during this period:  24395\n"
     ]
    }
   ],
   "source": [
    "print(\"Total cases in Italy during this period: \",covidmay_othersnew[covidmay_othersnew[\"countries\"]==\"Italy\"][\"infected\"].max()-covidmay_othersnew[covidmay_othersnew[\"countries\"]==\"Italy\"][\"infected\"].min())"
   ]
  },
  {
   "cell_type": "code",
   "execution_count": 230,
   "metadata": {},
   "outputs": [
    {
     "name": "stdout",
     "output_type": "stream",
     "text": [
      "Total cases in Italy during this period using daily confirmed cases:  0\n"
     ]
    }
   ],
   "source": [
    "print(\"Total cases in Italy during this period using daily confirmed cases: \",covidmay_othersnew[covidmay_othersnew[\"countries\"]==\"Italy\"][\"infected_today\"].sum())"
   ]
  },
  {
   "cell_type": "markdown",
   "metadata": {},
   "source": [
    "# RUSSIA CASES FOR MAY"
   ]
  },
  {
   "cell_type": "code",
   "execution_count": 176,
   "metadata": {},
   "outputs": [
    {
     "data": {
      "text/html": [
       "<div>\n",
       "<style scoped>\n",
       "    .dataframe tbody tr th:only-of-type {\n",
       "        vertical-align: middle;\n",
       "    }\n",
       "\n",
       "    .dataframe tbody tr th {\n",
       "        vertical-align: top;\n",
       "    }\n",
       "\n",
       "    .dataframe thead th {\n",
       "        text-align: right;\n",
       "    }\n",
       "</style>\n",
       "<table border=\"1\" class=\"dataframe\">\n",
       "  <thead>\n",
       "    <tr style=\"text-align: right;\">\n",
       "      <th></th>\n",
       "      <th>countries</th>\n",
       "      <th>infected</th>\n",
       "      <th>infected_today</th>\n",
       "      <th>deaths</th>\n",
       "      <th>deaths_today</th>\n",
       "      <th>recovered</th>\n",
       "      <th>recovered_today</th>\n",
       "      <th>active</th>\n",
       "      <th>critical</th>\n",
       "      <th>tests</th>\n",
       "      <th>death_rate</th>\n",
       "      <th>recovery_rate</th>\n",
       "    </tr>\n",
       "  </thead>\n",
       "  <tbody>\n",
       "    <tr>\n",
       "      <td>7</td>\n",
       "      <td>Russia</td>\n",
       "      <td>114431</td>\n",
       "      <td>7933</td>\n",
       "      <td>1169</td>\n",
       "      <td>96</td>\n",
       "      <td>13220</td>\n",
       "      <td>1601</td>\n",
       "      <td>100042</td>\n",
       "      <td>2300</td>\n",
       "      <td>3700000</td>\n",
       "      <td>1.0</td>\n",
       "      <td>11.6</td>\n",
       "    </tr>\n",
       "    <tr>\n",
       "      <td>222</td>\n",
       "      <td>Russia</td>\n",
       "      <td>124054</td>\n",
       "      <td>9623</td>\n",
       "      <td>1222</td>\n",
       "      <td>53</td>\n",
       "      <td>15013</td>\n",
       "      <td>1793</td>\n",
       "      <td>107819</td>\n",
       "      <td>2300</td>\n",
       "      <td>3945518</td>\n",
       "      <td>1.0</td>\n",
       "      <td>12.1</td>\n",
       "    </tr>\n",
       "    <tr>\n",
       "      <td>438</td>\n",
       "      <td>Russia</td>\n",
       "      <td>134687</td>\n",
       "      <td>10633</td>\n",
       "      <td>1280</td>\n",
       "      <td>58</td>\n",
       "      <td>16639</td>\n",
       "      <td>1626</td>\n",
       "      <td>116768</td>\n",
       "      <td>2300</td>\n",
       "      <td>4100000</td>\n",
       "      <td>1.0</td>\n",
       "      <td>12.4</td>\n",
       "    </tr>\n",
       "    <tr>\n",
       "      <td>654</td>\n",
       "      <td>Russia</td>\n",
       "      <td>145268</td>\n",
       "      <td>10581</td>\n",
       "      <td>1356</td>\n",
       "      <td>76</td>\n",
       "      <td>18095</td>\n",
       "      <td>1456</td>\n",
       "      <td>125817</td>\n",
       "      <td>2300</td>\n",
       "      <td>4300000</td>\n",
       "      <td>0.9</td>\n",
       "      <td>12.5</td>\n",
       "    </tr>\n",
       "    <tr>\n",
       "      <td>870</td>\n",
       "      <td>Russia</td>\n",
       "      <td>155370</td>\n",
       "      <td>10102</td>\n",
       "      <td>1451</td>\n",
       "      <td>95</td>\n",
       "      <td>19865</td>\n",
       "      <td>1770</td>\n",
       "      <td>134054</td>\n",
       "      <td>2300</td>\n",
       "      <td>4460357</td>\n",
       "      <td>0.9</td>\n",
       "      <td>12.8</td>\n",
       "    </tr>\n",
       "  </tbody>\n",
       "</table>\n",
       "</div>"
      ],
      "text/plain": [
       "    countries  infected  infected_today  deaths  deaths_today  recovered  \\\n",
       "7      Russia    114431            7933    1169            96      13220   \n",
       "222    Russia    124054            9623    1222            53      15013   \n",
       "438    Russia    134687           10633    1280            58      16639   \n",
       "654    Russia    145268           10581    1356            76      18095   \n",
       "870    Russia    155370           10102    1451            95      19865   \n",
       "\n",
       "     recovered_today  active  critical    tests  death_rate  recovery_rate  \n",
       "7               1601  100042      2300  3700000         1.0           11.6  \n",
       "222             1793  107819      2300  3945518         1.0           12.1  \n",
       "438             1626  116768      2300  4100000         1.0           12.4  \n",
       "654             1456  125817      2300  4300000         0.9           12.5  \n",
       "870             1770  134054      2300  4460357         0.9           12.8  "
      ]
     },
     "execution_count": 176,
     "metadata": {},
     "output_type": "execute_result"
    }
   ],
   "source": [
    "covidmay_othersnew[covidmay_othersnew[\"countries\"]==\"Russia\"].head()"
   ]
  },
  {
   "cell_type": "code",
   "execution_count": 177,
   "metadata": {},
   "outputs": [
    {
     "name": "stdout",
     "output_type": "stream",
     "text": [
      "Total cases in Russia during this period:  238996\n"
     ]
    }
   ],
   "source": [
    "print(\"Total cases in Russia during this period: \",covidmay_othersnew[covidmay_othersnew[\"countries\"]==\"Russia\"][\"infected\"].max()-covidmay_othersnew[covidmay_othersnew[\"countries\"]==\"Russia\"][\"infected\"].min())"
   ]
  },
  {
   "cell_type": "code",
   "execution_count": 231,
   "metadata": {},
   "outputs": [
    {
     "name": "stdout",
     "output_type": "stream",
     "text": [
      "Total cases in Russia during this period using daily confirmed cases:  216056\n"
     ]
    }
   ],
   "source": [
    "print(\"Total cases in Russia during this period using daily confirmed cases: \",covidmay_othersnew[covidmay_othersnew[\"countries\"]==\"Russia\"][\"infected_today\"].sum())"
   ]
  },
  {
   "cell_type": "markdown",
   "metadata": {},
   "source": [
    "\n",
    "# COVID OTHER TIME:\n",
    "\n",
    "APRIL FILES"
   ]
  },
  {
   "cell_type": "code",
   "execution_count": 232,
   "metadata": {},
   "outputs": [],
   "source": [
    "covidapr_others=[file for file in covid_others if \"Apr\" in file]"
   ]
  },
  {
   "cell_type": "code",
   "execution_count": 233,
   "metadata": {},
   "outputs": [],
   "source": [
    "df4_files=[]\n",
    "\n",
    "\n",
    "for file4 in covidapr_others:\n",
    "    df4=pd.read_csv(r'C:\\Users\\CRUISE\\Desktop\\coviddata'+\"\\\\\"+file4)\n",
    "    df4_files.append(df4)\n",
    "    \n",
    "covidapr_othersnew=pd.concat(df4_files, ignore_index=True,sort=False)\n",
    "\n",
    "covidapr_othersnew.to_csv(\"final4.csv\")"
   ]
  },
  {
   "cell_type": "code",
   "execution_count": 234,
   "metadata": {},
   "outputs": [],
   "source": [
    "covidapr_othersnew.drop([\"infected_today\",\"deaths_today\",\"recovered_today\",\"tests\",\"critical\"],axis=1,inplace=True)"
   ]
  },
  {
   "cell_type": "code",
   "execution_count": 235,
   "metadata": {},
   "outputs": [
    {
     "data": {
      "text/html": [
       "<div>\n",
       "<style scoped>\n",
       "    .dataframe tbody tr th:only-of-type {\n",
       "        vertical-align: middle;\n",
       "    }\n",
       "\n",
       "    .dataframe tbody tr th {\n",
       "        vertical-align: top;\n",
       "    }\n",
       "\n",
       "    .dataframe thead th {\n",
       "        text-align: right;\n",
       "    }\n",
       "</style>\n",
       "<table border=\"1\" class=\"dataframe\">\n",
       "  <thead>\n",
       "    <tr style=\"text-align: right;\">\n",
       "      <th></th>\n",
       "      <th>countries</th>\n",
       "      <th>infected</th>\n",
       "      <th>deaths</th>\n",
       "      <th>recovered</th>\n",
       "      <th>active</th>\n",
       "      <th>death_rate</th>\n",
       "      <th>recovery_rate</th>\n",
       "      <th>infected_today</th>\n",
       "    </tr>\n",
       "  </thead>\n",
       "  <tbody>\n",
       "    <tr>\n",
       "      <td>0</td>\n",
       "      <td>United States</td>\n",
       "      <td>244190</td>\n",
       "      <td>5883</td>\n",
       "      <td>10400</td>\n",
       "      <td>227907</td>\n",
       "      <td>2.4</td>\n",
       "      <td>4.3</td>\n",
       "      <td>NaN</td>\n",
       "    </tr>\n",
       "    <tr>\n",
       "      <td>1</td>\n",
       "      <td>Italy</td>\n",
       "      <td>115242</td>\n",
       "      <td>13915</td>\n",
       "      <td>18278</td>\n",
       "      <td>83049</td>\n",
       "      <td>12.1</td>\n",
       "      <td>15.9</td>\n",
       "      <td>NaN</td>\n",
       "    </tr>\n",
       "    <tr>\n",
       "      <td>2</td>\n",
       "      <td>Spain</td>\n",
       "      <td>112065</td>\n",
       "      <td>10348</td>\n",
       "      <td>26743</td>\n",
       "      <td>74974</td>\n",
       "      <td>9.2</td>\n",
       "      <td>23.9</td>\n",
       "      <td>NaN</td>\n",
       "    </tr>\n",
       "    <tr>\n",
       "      <td>3</td>\n",
       "      <td>Germany</td>\n",
       "      <td>84794</td>\n",
       "      <td>1107</td>\n",
       "      <td>22440</td>\n",
       "      <td>61247</td>\n",
       "      <td>1.3</td>\n",
       "      <td>26.5</td>\n",
       "      <td>NaN</td>\n",
       "    </tr>\n",
       "    <tr>\n",
       "      <td>4</td>\n",
       "      <td>China</td>\n",
       "      <td>82413</td>\n",
       "      <td>3322</td>\n",
       "      <td>76546</td>\n",
       "      <td>2545</td>\n",
       "      <td>4.0</td>\n",
       "      <td>92.9</td>\n",
       "      <td>NaN</td>\n",
       "    </tr>\n",
       "  </tbody>\n",
       "</table>\n",
       "</div>"
      ],
      "text/plain": [
       "       countries  infected  deaths  recovered  active  death_rate  \\\n",
       "0  United States    244190    5883      10400  227907         2.4   \n",
       "1          Italy    115242   13915      18278   83049        12.1   \n",
       "2          Spain    112065   10348      26743   74974         9.2   \n",
       "3        Germany     84794    1107      22440   61247         1.3   \n",
       "4          China     82413    3322      76546    2545         4.0   \n",
       "\n",
       "   recovery_rate  infected_today  \n",
       "0            4.3             NaN  \n",
       "1           15.9             NaN  \n",
       "2           23.9             NaN  \n",
       "3           26.5             NaN  \n",
       "4           92.9             NaN  "
      ]
     },
     "execution_count": 235,
     "metadata": {},
     "output_type": "execute_result"
    }
   ],
   "source": [
    "covidapr_othersnew.head()"
   ]
  },
  {
   "cell_type": "markdown",
   "metadata": {},
   "source": [
    "# ITALY CASES FOR APRIL"
   ]
  },
  {
   "cell_type": "code",
   "execution_count": 182,
   "metadata": {},
   "outputs": [
    {
     "data": {
      "text/html": [
       "<div>\n",
       "<style scoped>\n",
       "    .dataframe tbody tr th:only-of-type {\n",
       "        vertical-align: middle;\n",
       "    }\n",
       "\n",
       "    .dataframe tbody tr th {\n",
       "        vertical-align: top;\n",
       "    }\n",
       "\n",
       "    .dataframe thead th {\n",
       "        text-align: right;\n",
       "    }\n",
       "</style>\n",
       "<table border=\"1\" class=\"dataframe\">\n",
       "  <thead>\n",
       "    <tr style=\"text-align: right;\">\n",
       "      <th></th>\n",
       "      <th>countries</th>\n",
       "      <th>infected</th>\n",
       "      <th>deaths</th>\n",
       "      <th>recovered</th>\n",
       "      <th>active</th>\n",
       "      <th>death_rate</th>\n",
       "      <th>recovery_rate</th>\n",
       "    </tr>\n",
       "  </thead>\n",
       "  <tbody>\n",
       "    <tr>\n",
       "      <td>1</td>\n",
       "      <td>Italy</td>\n",
       "      <td>115242</td>\n",
       "      <td>13915</td>\n",
       "      <td>18278</td>\n",
       "      <td>83049</td>\n",
       "      <td>12.1</td>\n",
       "      <td>15.9</td>\n",
       "    </tr>\n",
       "    <tr>\n",
       "      <td>210</td>\n",
       "      <td>Italy</td>\n",
       "      <td>119827</td>\n",
       "      <td>14681</td>\n",
       "      <td>19758</td>\n",
       "      <td>85388</td>\n",
       "      <td>12.3</td>\n",
       "      <td>16.5</td>\n",
       "    </tr>\n",
       "    <tr>\n",
       "      <td>420</td>\n",
       "      <td>Italy</td>\n",
       "      <td>124632</td>\n",
       "      <td>15362</td>\n",
       "      <td>20996</td>\n",
       "      <td>88274</td>\n",
       "      <td>12.3</td>\n",
       "      <td>16.8</td>\n",
       "    </tr>\n",
       "    <tr>\n",
       "      <td>629</td>\n",
       "      <td>Italy</td>\n",
       "      <td>124632</td>\n",
       "      <td>15362</td>\n",
       "      <td>20996</td>\n",
       "      <td>88274</td>\n",
       "      <td>12.3</td>\n",
       "      <td>16.8</td>\n",
       "    </tr>\n",
       "    <tr>\n",
       "      <td>839</td>\n",
       "      <td>Italy</td>\n",
       "      <td>132547</td>\n",
       "      <td>16523</td>\n",
       "      <td>22837</td>\n",
       "      <td>93187</td>\n",
       "      <td>12.5</td>\n",
       "      <td>17.2</td>\n",
       "    </tr>\n",
       "  </tbody>\n",
       "</table>\n",
       "</div>"
      ],
      "text/plain": [
       "    countries  infected  deaths  recovered  active  death_rate  recovery_rate\n",
       "1       Italy    115242   13915      18278   83049        12.1           15.9\n",
       "210     Italy    119827   14681      19758   85388        12.3           16.5\n",
       "420     Italy    124632   15362      20996   88274        12.3           16.8\n",
       "629     Italy    124632   15362      20996   88274        12.3           16.8\n",
       "839     Italy    132547   16523      22837   93187        12.5           17.2"
      ]
     },
     "execution_count": 182,
     "metadata": {},
     "output_type": "execute_result"
    }
   ],
   "source": [
    "covidapr_othersnew[covidapr_othersnew[\"countries\"]==\"Italy\"].head()"
   ]
  },
  {
   "cell_type": "code",
   "execution_count": 183,
   "metadata": {},
   "outputs": [
    {
     "name": "stdout",
     "output_type": "stream",
     "text": [
      "Total cases in Italy during this period:  88349\n"
     ]
    }
   ],
   "source": [
    "print(\"Total cases in Italy during this period: \",covidapr_othersnew[covidapr_othersnew[\"countries\"]==\"Italy\"][\"infected\"].max()-covidapr_othersnew[covidapr_othersnew[\"countries\"]==\"Italy\"][\"infected\"].min())"
   ]
  },
  {
   "cell_type": "markdown",
   "metadata": {},
   "source": [
    "# RUSSIA CASES FOR APRIL"
   ]
  },
  {
   "cell_type": "code",
   "execution_count": 184,
   "metadata": {},
   "outputs": [
    {
     "data": {
      "text/html": [
       "<div>\n",
       "<style scoped>\n",
       "    .dataframe tbody tr th:only-of-type {\n",
       "        vertical-align: middle;\n",
       "    }\n",
       "\n",
       "    .dataframe tbody tr th {\n",
       "        vertical-align: top;\n",
       "    }\n",
       "\n",
       "    .dataframe thead th {\n",
       "        text-align: right;\n",
       "    }\n",
       "</style>\n",
       "<table border=\"1\" class=\"dataframe\">\n",
       "  <thead>\n",
       "    <tr style=\"text-align: right;\">\n",
       "      <th></th>\n",
       "      <th>countries</th>\n",
       "      <th>infected</th>\n",
       "      <th>deaths</th>\n",
       "      <th>recovered</th>\n",
       "      <th>active</th>\n",
       "      <th>death_rate</th>\n",
       "      <th>recovery_rate</th>\n",
       "    </tr>\n",
       "  </thead>\n",
       "  <tbody>\n",
       "    <tr>\n",
       "      <td>24</td>\n",
       "      <td>Russia</td>\n",
       "      <td>3548</td>\n",
       "      <td>30</td>\n",
       "      <td>235</td>\n",
       "      <td>3283</td>\n",
       "      <td>0.8</td>\n",
       "      <td>6.6</td>\n",
       "    </tr>\n",
       "    <tr>\n",
       "      <td>232</td>\n",
       "      <td>Russia</td>\n",
       "      <td>4149</td>\n",
       "      <td>34</td>\n",
       "      <td>281</td>\n",
       "      <td>3834</td>\n",
       "      <td>0.8</td>\n",
       "      <td>6.8</td>\n",
       "    </tr>\n",
       "    <tr>\n",
       "      <td>439</td>\n",
       "      <td>Russia</td>\n",
       "      <td>4731</td>\n",
       "      <td>43</td>\n",
       "      <td>333</td>\n",
       "      <td>4355</td>\n",
       "      <td>0.9</td>\n",
       "      <td>7.0</td>\n",
       "    </tr>\n",
       "    <tr>\n",
       "      <td>648</td>\n",
       "      <td>Russia</td>\n",
       "      <td>4731</td>\n",
       "      <td>43</td>\n",
       "      <td>333</td>\n",
       "      <td>4355</td>\n",
       "      <td>0.9</td>\n",
       "      <td>7.0</td>\n",
       "    </tr>\n",
       "    <tr>\n",
       "      <td>856</td>\n",
       "      <td>Russia</td>\n",
       "      <td>7497</td>\n",
       "      <td>58</td>\n",
       "      <td>494</td>\n",
       "      <td>6945</td>\n",
       "      <td>0.8</td>\n",
       "      <td>6.6</td>\n",
       "    </tr>\n",
       "  </tbody>\n",
       "</table>\n",
       "</div>"
      ],
      "text/plain": [
       "    countries  infected  deaths  recovered  active  death_rate  recovery_rate\n",
       "24     Russia      3548      30        235    3283         0.8            6.6\n",
       "232    Russia      4149      34        281    3834         0.8            6.8\n",
       "439    Russia      4731      43        333    4355         0.9            7.0\n",
       "648    Russia      4731      43        333    4355         0.9            7.0\n",
       "856    Russia      7497      58        494    6945         0.8            6.6"
      ]
     },
     "execution_count": 184,
     "metadata": {},
     "output_type": "execute_result"
    }
   ],
   "source": [
    "covidapr_othersnew[covidapr_othersnew[\"countries\"]==\"Russia\"].head()"
   ]
  },
  {
   "cell_type": "code",
   "execution_count": 185,
   "metadata": {},
   "outputs": [
    {
     "name": "stdout",
     "output_type": "stream",
     "text": [
      "Total cases in Russia during this period:  102950\n"
     ]
    }
   ],
   "source": [
    "print(\"Total cases in Russia during this period: \",covidapr_othersnew[covidapr_othersnew[\"countries\"]==\"Russia\"][\"infected\"].max()-covidapr_othersnew[covidapr_othersnew[\"countries\"]==\"Russia\"][\"infected\"].min())"
   ]
  },
  {
   "cell_type": "markdown",
   "metadata": {},
   "source": [
    "# END OF ANALYSIS ON COVID FILES\n",
    "\n",
    "\n",
    "\n",
    "\n",
    "\n",
    "\n",
    "\n"
   ]
  },
  {
   "cell_type": "markdown",
   "metadata": {},
   "source": [
    "\n",
    "\n",
    "\n",
    "# NEXT:  WORLDWIDE FILES"
   ]
  },
  {
   "cell_type": "code",
   "execution_count": 186,
   "metadata": {},
   "outputs": [],
   "source": [
    "world=[file for file in files if file[:2] == \"wo\"]"
   ]
  },
  {
   "cell_type": "markdown",
   "metadata": {},
   "source": [
    "#    "
   ]
  },
  {
   "cell_type": "markdown",
   "metadata": {},
   "source": [
    "# WORLD 11PM PLUS FILES\n",
    "\n",
    "APRIL FILES"
   ]
  },
  {
   "cell_type": "code",
   "execution_count": 187,
   "metadata": {},
   "outputs": [],
   "source": [
    "world11pm_plus=[file for file in world if \"23\" in file[-13:-10]]"
   ]
  },
  {
   "cell_type": "code",
   "execution_count": 188,
   "metadata": {},
   "outputs": [],
   "source": [
    "worldapr11pm_plus=[file for file in world11pm_plus if \"Apr\" in file]"
   ]
  },
  {
   "cell_type": "markdown",
   "metadata": {},
   "source": [
    "# I noticed there was a difference in columns number in the worldwide dataset via trial and error"
   ]
  },
  {
   "cell_type": "code",
   "execution_count": 189,
   "metadata": {},
   "outputs": [],
   "source": [
    "df5_files=[]\n",
    "df6_files=[]\n",
    "\n",
    "for name in worldapr11pm_plus:\n",
    "    df5=pd.read_csv(r'C:\\Users\\CRUISE\\Desktop\\coviddata'+\"\\\\\"+name)\n",
    "    if len(df5.columns)==13: ## files with 13 columns\n",
    "        df5_files.append(df5)\n",
    "    else:\n",
    "        df6_files.append(df5) ## append files with 7 columns\n",
    "        \n",
    "worldapr11pm_plusnew13cols=pd.concat(df5_files, ignore_index=True,sort=False)\n",
    "worldapr11pm_plusnew7cols=pd.concat(df6_files, ignore_index=True,sort=False)\n",
    "\n",
    "worldapr11pm_plusnew13cols.to_csv(\"final5.csv\")\n",
    "worldapr11pm_plusnew7cols.to_csv(\"final6.csv\")"
   ]
  },
  {
   "cell_type": "code",
   "execution_count": 190,
   "metadata": {},
   "outputs": [
    {
     "data": {
      "text/html": [
       "<div>\n",
       "<style scoped>\n",
       "    .dataframe tbody tr th:only-of-type {\n",
       "        vertical-align: middle;\n",
       "    }\n",
       "\n",
       "    .dataframe tbody tr th {\n",
       "        vertical-align: top;\n",
       "    }\n",
       "\n",
       "    .dataframe thead th {\n",
       "        text-align: right;\n",
       "    }\n",
       "</style>\n",
       "<table border=\"1\" class=\"dataframe\">\n",
       "  <thead>\n",
       "    <tr style=\"text-align: right;\">\n",
       "      <th></th>\n",
       "      <th>Country</th>\n",
       "      <th>Total confirmed</th>\n",
       "      <th>Total_confirmed_today</th>\n",
       "      <th>Total_deaths</th>\n",
       "      <th>Total_deaths_today</th>\n",
       "      <th>Total_Recoveries</th>\n",
       "      <th>Total_Recoveries_today</th>\n",
       "      <th>Active_confirmed</th>\n",
       "      <th>Critical</th>\n",
       "      <th>Mortality_close</th>\n",
       "      <th>Mortality_confirmed</th>\n",
       "      <th>Total_tests</th>\n",
       "      <th>Total_tests_today</th>\n",
       "    </tr>\n",
       "  </thead>\n",
       "  <tbody>\n",
       "    <tr>\n",
       "      <td>0</td>\n",
       "      <td>USA</td>\n",
       "      <td>396,215</td>\n",
       "      <td>29,609</td>\n",
       "      <td>12,790</td>\n",
       "      <td>1,931</td>\n",
       "      <td>21,674</td>\n",
       "      <td>2,101</td>\n",
       "      <td>361,751</td>\n",
       "      <td>9,169 (3%)</td>\n",
       "      <td>361,751</td>\n",
       "      <td>3%</td>\n",
       "      <td>2,065,073</td>\n",
       "      <td>151,605</td>\n",
       "    </tr>\n",
       "    <tr>\n",
       "      <td>1</td>\n",
       "      <td>USA</td>\n",
       "      <td>141,942</td>\n",
       "      <td>5,267</td>\n",
       "      <td>14,045</td>\n",
       "      <td>704</td>\n",
       "      <td>43,208</td>\n",
       "      <td>2,771</td>\n",
       "      <td>84,689</td>\n",
       "      <td>7,069 (8%)</td>\n",
       "      <td>84,689</td>\n",
       "      <td>10%</td>\n",
       "      <td>355,000</td>\n",
       "      <td>0</td>\n",
       "    </tr>\n",
       "    <tr>\n",
       "      <td>2</td>\n",
       "      <td>USA</td>\n",
       "      <td>135,586</td>\n",
       "      <td>3,039</td>\n",
       "      <td>17,127</td>\n",
       "      <td>604</td>\n",
       "      <td>24,392</td>\n",
       "      <td>1,555</td>\n",
       "      <td>94,067</td>\n",
       "      <td>3,792 (4%)</td>\n",
       "      <td>94,067</td>\n",
       "      <td>13%</td>\n",
       "      <td>755,445</td>\n",
       "      <td>33,713</td>\n",
       "    </tr>\n",
       "    <tr>\n",
       "      <td>3</td>\n",
       "      <td>USA</td>\n",
       "      <td>109,069</td>\n",
       "      <td>11,059</td>\n",
       "      <td>10,328</td>\n",
       "      <td>1,417</td>\n",
       "      <td>19,337</td>\n",
       "      <td>2,087</td>\n",
       "      <td>79,404</td>\n",
       "      <td>7,131 (9%)</td>\n",
       "      <td>79,404</td>\n",
       "      <td>9%</td>\n",
       "      <td>224,254</td>\n",
       "      <td>0</td>\n",
       "    </tr>\n",
       "    <tr>\n",
       "      <td>4</td>\n",
       "      <td>USA</td>\n",
       "      <td>107,663</td>\n",
       "      <td>4,289</td>\n",
       "      <td>2,016</td>\n",
       "      <td>206</td>\n",
       "      <td>36,081</td>\n",
       "      <td>7,381</td>\n",
       "      <td>69,566</td>\n",
       "      <td>4,895 (7%)</td>\n",
       "      <td>69,566</td>\n",
       "      <td>2%</td>\n",
       "      <td>918,460</td>\n",
       "      <td>0</td>\n",
       "    </tr>\n",
       "  </tbody>\n",
       "</table>\n",
       "</div>"
      ],
      "text/plain": [
       "  Country Total confirmed Total_confirmed_today Total_deaths  \\\n",
       "0     USA         396,215                29,609       12,790   \n",
       "1     USA         141,942                 5,267       14,045   \n",
       "2     USA         135,586                 3,039       17,127   \n",
       "3     USA         109,069                11,059       10,328   \n",
       "4     USA         107,663                 4,289        2,016   \n",
       "\n",
       "  Total_deaths_today Total_Recoveries Total_Recoveries_today Active_confirmed  \\\n",
       "0              1,931           21,674                  2,101          361,751   \n",
       "1                704           43,208                  2,771           84,689   \n",
       "2                604           24,392                  1,555           94,067   \n",
       "3              1,417           19,337                  2,087           79,404   \n",
       "4                206           36,081                  7,381           69,566   \n",
       "\n",
       "     Critical Mortality_close Mortality_confirmed Total_tests  \\\n",
       "0  9,169 (3%)         361,751                  3%   2,065,073   \n",
       "1  7,069 (8%)          84,689                 10%     355,000   \n",
       "2  3,792 (4%)          94,067                 13%     755,445   \n",
       "3  7,131 (9%)          79,404                  9%     224,254   \n",
       "4  4,895 (7%)          69,566                  2%     918,460   \n",
       "\n",
       "  Total_tests_today  \n",
       "0           151,605  \n",
       "1                 0  \n",
       "2            33,713  \n",
       "3                 0  \n",
       "4                 0  "
      ]
     },
     "execution_count": 190,
     "metadata": {},
     "output_type": "execute_result"
    }
   ],
   "source": [
    "worldapr11pm_plusnew13cols.head()      ## 13 columns"
   ]
  },
  {
   "cell_type": "code",
   "execution_count": 192,
   "metadata": {},
   "outputs": [],
   "source": [
    "## replace United-states with USA\n",
    "\n",
    "worldapr11pm_plusnew7cols.replace(\"united-states\",\"USA\",inplace=True)\n",
    "worldapr11pm_plusnew13cols.replace(\"united-states\",\"USA\",inplace=True)"
   ]
  },
  {
   "cell_type": "code",
   "execution_count": 193,
   "metadata": {},
   "outputs": [],
   "source": [
    "worldapr11pm_plusnew7cols.rename(columns={\"Total confirmed cases\":\"Total confirmed\",\"Total deaths\":\"Total_deaths\",\"Cases confirmed today\":\"Total_confirmed_today\"},inplace=True)"
   ]
  },
  {
   "cell_type": "code",
   "execution_count": 194,
   "metadata": {},
   "outputs": [
    {
     "data": {
      "text/html": [
       "<div>\n",
       "<style scoped>\n",
       "    .dataframe tbody tr th:only-of-type {\n",
       "        vertical-align: middle;\n",
       "    }\n",
       "\n",
       "    .dataframe tbody tr th {\n",
       "        vertical-align: top;\n",
       "    }\n",
       "\n",
       "    .dataframe thead th {\n",
       "        text-align: right;\n",
       "    }\n",
       "</style>\n",
       "<table border=\"1\" class=\"dataframe\">\n",
       "  <thead>\n",
       "    <tr style=\"text-align: right;\">\n",
       "      <th></th>\n",
       "      <th>Country</th>\n",
       "      <th>Total confirmed</th>\n",
       "      <th>Total_deaths</th>\n",
       "      <th>Confirmed recoveries</th>\n",
       "      <th>Total_confirmed_today</th>\n",
       "      <th>Deaths today</th>\n",
       "      <th>Recoveries confirmed today</th>\n",
       "    </tr>\n",
       "  </thead>\n",
       "  <tbody>\n",
       "    <tr>\n",
       "      <td>0</td>\n",
       "      <td>USA</td>\n",
       "      <td>242,899</td>\n",
       "      <td>5,865</td>\n",
       "      <td>10,400</td>\n",
       "      <td>28,260</td>\n",
       "      <td>766</td>\n",
       "      <td>1,522</td>\n",
       "    </tr>\n",
       "    <tr>\n",
       "      <td>1</td>\n",
       "      <td>italy</td>\n",
       "      <td>115,242</td>\n",
       "      <td>13,915</td>\n",
       "      <td>18,278</td>\n",
       "      <td>4,668</td>\n",
       "      <td>760</td>\n",
       "      <td>1,431</td>\n",
       "    </tr>\n",
       "    <tr>\n",
       "      <td>2</td>\n",
       "      <td>spain</td>\n",
       "      <td>112,065</td>\n",
       "      <td>10,348</td>\n",
       "      <td>26,743</td>\n",
       "      <td>7,947</td>\n",
       "      <td>961</td>\n",
       "      <td>4,096</td>\n",
       "    </tr>\n",
       "    <tr>\n",
       "      <td>3</td>\n",
       "      <td>germany</td>\n",
       "      <td>84,794</td>\n",
       "      <td>1,107</td>\n",
       "      <td>22,440</td>\n",
       "      <td>6,813</td>\n",
       "      <td>176</td>\n",
       "      <td>3,740</td>\n",
       "    </tr>\n",
       "    <tr>\n",
       "      <td>4</td>\n",
       "      <td>china</td>\n",
       "      <td>82,413</td>\n",
       "      <td>3,322</td>\n",
       "      <td>76,546</td>\n",
       "      <td>53</td>\n",
       "      <td>6</td>\n",
       "      <td>142</td>\n",
       "    </tr>\n",
       "  </tbody>\n",
       "</table>\n",
       "</div>"
      ],
      "text/plain": [
       "   Country Total confirmed Total_deaths Confirmed recoveries  \\\n",
       "0      USA         242,899        5,865               10,400   \n",
       "1    italy         115,242       13,915               18,278   \n",
       "2    spain         112,065       10,348               26,743   \n",
       "3  germany          84,794        1,107               22,440   \n",
       "4    china          82,413        3,322               76,546   \n",
       "\n",
       "  Total_confirmed_today Deaths today Recoveries confirmed today  \n",
       "0                28,260          766                      1,522  \n",
       "1                 4,668          760                      1,431  \n",
       "2                 7,947          961                      4,096  \n",
       "3                 6,813          176                      3,740  \n",
       "4                    53            6                        142  "
      ]
     },
     "execution_count": 194,
     "metadata": {},
     "output_type": "execute_result"
    }
   ],
   "source": [
    "worldapr11pm_plusnew7cols.head()    ## 7 columns"
   ]
  },
  {
   "cell_type": "code",
   "execution_count": 195,
   "metadata": {},
   "outputs": [],
   "source": [
    "worldapr11pm_plusnew7cols.drop([\"Total_deaths\",\"Confirmed recoveries\",\"Deaths today\",\"Recoveries confirmed today\"],axis=1,inplace=True)"
   ]
  },
  {
   "cell_type": "code",
   "execution_count": 196,
   "metadata": {},
   "outputs": [],
   "source": [
    "# Concatenating the 13 columns and 7 columns table\n",
    "worldapr11pm_pluscombined=pd.concat([worldapr11pm_plusnew13cols,worldapr11pm_plusnew7cols],ignore_index=True,sort=False)"
   ]
  },
  {
   "cell_type": "code",
   "execution_count": 197,
   "metadata": {},
   "outputs": [],
   "source": [
    "worldapr11pm_pluscombined.dropna(axis=1,inplace=True)"
   ]
  },
  {
   "cell_type": "code",
   "execution_count": 198,
   "metadata": {},
   "outputs": [],
   "source": [
    "def txt_clean(mess):\n",
    "    \"\"\"\n",
    "    1.remove punc\n",
    "    2.return integer\n",
    "    \"\"\"\n",
    "    nopunc=[ch for ch in mess if ch not in string.punctuation]\n",
    "    nopunc=\"\".join(nopunc)\n",
    "    \n",
    "    for word in nopunc.split(): \n",
    "        if word not in string.punctuation:\n",
    "            return int(word)   "
   ]
  },
  {
   "cell_type": "code",
   "execution_count": 199,
   "metadata": {},
   "outputs": [],
   "source": [
    "## convert string in series to int\n",
    "worldapr11pm_pluscombined[\"Total_confirmed_today\"]=pd.DataFrame(worldapr11pm_pluscombined[\"Total_confirmed_today\"].apply(txt_clean), columns=[\"Total_confirmed_today\"])\n",
    "worldapr11pm_pluscombined[\"Total confirmed\"]=pd.DataFrame(worldapr11pm_pluscombined[\"Total confirmed\"].apply(txt_clean), columns=[\"Total confirmed\"])"
   ]
  },
  {
   "cell_type": "markdown",
   "metadata": {},
   "source": [
    "# Total number of USA cases: \n",
    "\n",
    "WORLD 11PM PLUS FILES\n",
    "APRIL FILES"
   ]
  },
  {
   "cell_type": "code",
   "execution_count": 201,
   "metadata": {},
   "outputs": [
    {
     "name": "stdout",
     "output_type": "stream",
     "text": [
      "Total cases in USA during this period using daily confirmed cases:  819708\n"
     ]
    }
   ],
   "source": [
    "print(\"Total cases in USA during this period using daily confirmed cases: \",worldapr11pm_pluscombined[worldapr11pm_pluscombined[\"Country\"]==\"USA\"][\"Total_confirmed_today\"].sum())"
   ]
  },
  {
   "cell_type": "code",
   "execution_count": 202,
   "metadata": {},
   "outputs": [
    {
     "name": "stdout",
     "output_type": "stream",
     "text": [
      "Total cases in USA during this period using Total confirmed cases:  1094717\n"
     ]
    }
   ],
   "source": [
    "print(\"Total cases in USA during this period using Total confirmed cases: \",worldapr11pm_pluscombined[worldapr11pm_pluscombined[\"Country\"]==\"USA\"][\"Total confirmed\"].max()-worldapr11pm_pluscombined[worldapr11pm_pluscombined[\"Country\"]==\"USA\"][\"Total confirmed\"].min())"
   ]
  },
  {
   "cell_type": "markdown",
   "metadata": {},
   "source": [
    "# # Total number of GERMANY cases:\n",
    "WORLD 11PM PLUS FILES APRIL FILES"
   ]
  },
  {
   "cell_type": "code",
   "execution_count": 225,
   "metadata": {},
   "outputs": [
    {
     "name": "stdout",
     "output_type": "stream",
     "text": [
      "Total cases in GERMANY during this period using daily confirmed cases:  45008\n"
     ]
    }
   ],
   "source": [
    "print(\"Total cases in GERMANY during this period using daily confirmed cases: \",worldapr11pm_pluscombined[worldapr11pm_pluscombined[\"Country\"]==\"germany\"][\"Total_confirmed_today\"].sum())"
   ]
  },
  {
   "cell_type": "code",
   "execution_count": 226,
   "metadata": {},
   "outputs": [
    {
     "name": "stdout",
     "output_type": "stream",
     "text": [
      "Total cases in GERMANY during this period using Total confirmed cases:  78215\n"
     ]
    }
   ],
   "source": [
    "print(\"Total cases in GERMANY during this period using Total confirmed cases: \",worldapr11pm_pluscombined[worldapr11pm_pluscombined[\"Country\"]==\"germany\"][\"Total confirmed\"].max()-worldapr11pm_pluscombined[worldapr11pm_pluscombined[\"Country\"]==\"germany\"][\"Total confirmed\"].min())"
   ]
  },
  {
   "cell_type": "markdown",
   "metadata": {},
   "source": [
    "#   "
   ]
  },
  {
   "cell_type": "markdown",
   "metadata": {},
   "source": [
    "# WORLD 11PM PLUS FILES\n",
    "MAY FILES"
   ]
  },
  {
   "cell_type": "code",
   "execution_count": 207,
   "metadata": {},
   "outputs": [],
   "source": [
    "worldmay11pm_plus=[file for file in world11pm_plus if \"May\" in file]"
   ]
  },
  {
   "cell_type": "code",
   "execution_count": 208,
   "metadata": {},
   "outputs": [],
   "source": [
    "df7_files=[]\n",
    "\n",
    "\n",
    "for file7 in worldmay11pm_plus:\n",
    "    df7=pd.read_csv(r'C:\\Users\\CRUISE\\Desktop\\coviddata'+\"\\\\\"+file7)\n",
    "    df7_files.append(df7)\n",
    "    \n",
    "worldmay11pm_plusnew=pd.concat(df7_files, ignore_index=True,sort=False)\n",
    "\n",
    "worldmay11pm_plusnew.to_csv(\"final7.csv\")"
   ]
  },
  {
   "cell_type": "code",
   "execution_count": 214,
   "metadata": {},
   "outputs": [
    {
     "data": {
      "text/html": [
       "<div>\n",
       "<style scoped>\n",
       "    .dataframe tbody tr th:only-of-type {\n",
       "        vertical-align: middle;\n",
       "    }\n",
       "\n",
       "    .dataframe tbody tr th {\n",
       "        vertical-align: top;\n",
       "    }\n",
       "\n",
       "    .dataframe thead th {\n",
       "        text-align: right;\n",
       "    }\n",
       "</style>\n",
       "<table border=\"1\" class=\"dataframe\">\n",
       "  <thead>\n",
       "    <tr style=\"text-align: right;\">\n",
       "      <th></th>\n",
       "      <th>Country</th>\n",
       "      <th>Total confirmed</th>\n",
       "      <th>Total_confirmed_today</th>\n",
       "      <th>Total_deaths</th>\n",
       "      <th>Total_deaths_today</th>\n",
       "      <th>Total_Recoveries</th>\n",
       "      <th>Total_Recoveries_today</th>\n",
       "      <th>Active_confirmed</th>\n",
       "      <th>Critical</th>\n",
       "      <th>Mortality_close</th>\n",
       "      <th>Mortality_confirmed</th>\n",
       "      <th>Total_tests</th>\n",
       "      <th>Total_tests_today</th>\n",
       "    </tr>\n",
       "  </thead>\n",
       "  <tbody>\n",
       "    <tr>\n",
       "      <td>0</td>\n",
       "      <td>united-states</td>\n",
       "      <td>1,129,882</td>\n",
       "      <td>35,152</td>\n",
       "      <td>65,724</td>\n",
       "      <td>1,883</td>\n",
       "      <td>161,551</td>\n",
       "      <td>9,227</td>\n",
       "      <td>902,607</td>\n",
       "      <td>16,478 (2%)</td>\n",
       "      <td>902,607</td>\n",
       "      <td>6%</td>\n",
       "      <td>6,690,837</td>\n",
       "      <td>314,371</td>\n",
       "    </tr>\n",
       "    <tr>\n",
       "      <td>1</td>\n",
       "      <td>spain</td>\n",
       "      <td>242,988</td>\n",
       "      <td>3,349</td>\n",
       "      <td>24,824</td>\n",
       "      <td>281</td>\n",
       "      <td>142,450</td>\n",
       "      <td>4,466</td>\n",
       "      <td>75,714</td>\n",
       "      <td>2,500 (3%)</td>\n",
       "      <td>75,714</td>\n",
       "      <td>10%</td>\n",
       "      <td>1,528,833</td>\n",
       "      <td>73,527</td>\n",
       "    </tr>\n",
       "    <tr>\n",
       "      <td>2</td>\n",
       "      <td>italy</td>\n",
       "      <td>207,428</td>\n",
       "      <td>1,965</td>\n",
       "      <td>28,236</td>\n",
       "      <td>269</td>\n",
       "      <td>78,249</td>\n",
       "      <td>2,304</td>\n",
       "      <td>100,943</td>\n",
       "      <td>1,578 (2%)</td>\n",
       "      <td>100,943</td>\n",
       "      <td>14%</td>\n",
       "      <td>2,053,425</td>\n",
       "      <td>74,208</td>\n",
       "    </tr>\n",
       "    <tr>\n",
       "      <td>3</td>\n",
       "      <td>united-kingdom</td>\n",
       "      <td>178,566</td>\n",
       "      <td>6,206</td>\n",
       "      <td>27,579</td>\n",
       "      <td>741</td>\n",
       "      <td>856</td>\n",
       "      <td>31</td>\n",
       "      <td>150,131</td>\n",
       "      <td>1,559 (1%)</td>\n",
       "      <td>150,131</td>\n",
       "      <td>15%</td>\n",
       "      <td>1,023,824</td>\n",
       "      <td>121,919</td>\n",
       "    </tr>\n",
       "    <tr>\n",
       "      <td>4</td>\n",
       "      <td>france</td>\n",
       "      <td>167,346</td>\n",
       "      <td>168</td>\n",
       "      <td>24,594</td>\n",
       "      <td>218</td>\n",
       "      <td>50,212</td>\n",
       "      <td>736</td>\n",
       "      <td>92,540</td>\n",
       "      <td>3,878 (4%)</td>\n",
       "      <td>92,540</td>\n",
       "      <td>15%</td>\n",
       "      <td>1,100,228</td>\n",
       "      <td>375,654</td>\n",
       "    </tr>\n",
       "  </tbody>\n",
       "</table>\n",
       "</div>"
      ],
      "text/plain": [
       "          Country Total confirmed Total_confirmed_today Total_deaths  \\\n",
       "0   united-states       1,129,882                35,152       65,724   \n",
       "1           spain         242,988                 3,349       24,824   \n",
       "2           italy         207,428                 1,965       28,236   \n",
       "3  united-kingdom         178,566                 6,206       27,579   \n",
       "4          france         167,346                   168       24,594   \n",
       "\n",
       "  Total_deaths_today Total_Recoveries Total_Recoveries_today Active_confirmed  \\\n",
       "0              1,883          161,551                  9,227          902,607   \n",
       "1                281          142,450                  4,466           75,714   \n",
       "2                269           78,249                  2,304          100,943   \n",
       "3                741              856                     31          150,131   \n",
       "4                218           50,212                    736           92,540   \n",
       "\n",
       "      Critical Mortality_close Mortality_confirmed Total_tests  \\\n",
       "0  16,478 (2%)         902,607                  6%   6,690,837   \n",
       "1   2,500 (3%)          75,714                 10%   1,528,833   \n",
       "2   1,578 (2%)         100,943                 14%   2,053,425   \n",
       "3   1,559 (1%)         150,131                 15%   1,023,824   \n",
       "4   3,878 (4%)          92,540                 15%   1,100,228   \n",
       "\n",
       "  Total_tests_today  \n",
       "0           314,371  \n",
       "1            73,527  \n",
       "2            74,208  \n",
       "3           121,919  \n",
       "4           375,654  "
      ]
     },
     "execution_count": 214,
     "metadata": {},
     "output_type": "execute_result"
    }
   ],
   "source": [
    "worldmay11pm_plusnew.head()"
   ]
  },
  {
   "cell_type": "code",
   "execution_count": 218,
   "metadata": {},
   "outputs": [],
   "source": [
    "## convert string in series to int\n",
    "worldmay11pm_plusnew[\"Total_confirmed_today\"]=pd.DataFrame(worldmay11pm_plusnew[\"Total_confirmed_today\"].apply(txt_clean), columns=[\"Total_confirmed_today\"])\n",
    "worldmay11pm_plusnew[\"Total confirmed\"]=pd.DataFrame(worldmay11pm_plusnew[\"Total confirmed\"].apply(txt_clean), columns=[\"Total confirmed\"])"
   ]
  },
  {
   "cell_type": "markdown",
   "metadata": {},
   "source": [
    "# # Total number of USA cases:\n",
    "WORLD 11PM PLUS FILES MAY FILES"
   ]
  },
  {
   "cell_type": "code",
   "execution_count": 223,
   "metadata": {},
   "outputs": [
    {
     "name": "stdout",
     "output_type": "stream",
     "text": [
      "Total cases in USA during this period using Total confirmed cases:  555285\n"
     ]
    }
   ],
   "source": [
    "print(\"Total cases in USA during this period using Total confirmed cases: \",worldmay11pm_plusnew[worldmay11pm_plusnew[\"Country\"]==\"united-states\"][\"Total confirmed\"].max()-worldmay11pm_plusnew[worldmay11pm_plusnew[\"Country\"]==\"united-states\"][\"Total confirmed\"].min())"
   ]
  },
  {
   "cell_type": "code",
   "execution_count": 224,
   "metadata": {},
   "outputs": [
    {
     "name": "stdout",
     "output_type": "stream",
     "text": [
      "Total cases in USA during this period using daily confirmed cases:  585611\n"
     ]
    }
   ],
   "source": [
    "print(\"Total cases in USA during this period using daily confirmed cases: \",worldmay11pm_plusnew[worldmay11pm_plusnew[\"Country\"]==\"united-states\"][\"Total_confirmed_today\"].sum())"
   ]
  },
  {
   "cell_type": "markdown",
   "metadata": {},
   "source": [
    "# # Total number of GERMANY cases:\n",
    "WORLD 11PM PLUS FILES MAY FILES"
   ]
  },
  {
   "cell_type": "code",
   "execution_count": 227,
   "metadata": {},
   "outputs": [
    {
     "name": "stdout",
     "output_type": "stream",
     "text": [
      "Total cases in GERMANY during this period using daily confirmed cases:  17319\n"
     ]
    }
   ],
   "source": [
    "print(\"Total cases in GERMANY during this period using daily confirmed cases: \",worldmay11pm_plusnew[worldmay11pm_plusnew[\"Country\"]==\"germany\"][\"Total_confirmed_today\"].sum())"
   ]
  },
  {
   "cell_type": "code",
   "execution_count": 228,
   "metadata": {},
   "outputs": [
    {
     "name": "stdout",
     "output_type": "stream",
     "text": [
      "Total cases in GERMANY during this period using Total confirmed cases:  16251\n"
     ]
    }
   ],
   "source": [
    "print(\"Total cases in GERMANY during this period using Total confirmed cases: \",worldmay11pm_plusnew[worldmay11pm_plusnew[\"Country\"]==\"germany\"][\"Total confirmed\"].max()-worldmay11pm_plusnew[worldmay11pm_plusnew[\"Country\"]==\"germany\"][\"Total confirmed\"].min())"
   ]
  },
  {
   "cell_type": "markdown",
   "metadata": {},
   "source": [
    "# KICKER\n"
   ]
  },
  {
   "cell_type": "code",
   "execution_count": 252,
   "metadata": {},
   "outputs": [],
   "source": [
    "world11pm_plus;"
   ]
  },
  {
   "cell_type": "code",
   "execution_count": 278,
   "metadata": {},
   "outputs": [],
   "source": [
    "df9_files=[]\n",
    "df10_files=[]\n",
    "\n",
    "for name1 in world11pm_plus:\n",
    "    df9=pd.read_csv(r'C:\\Users\\CRUISE\\Desktop\\coviddata'+\"\\\\\"+name1)\n",
    "    if len(df9.columns)==13: ## files with 13 columns\n",
    "        df9_files.append(df9)\n",
    "    else:\n",
    "        df10_files.append(df9) ## append files with 7 columns\n",
    "        \n",
    "world11pm_plusnew13cols=pd.concat(df9_files, ignore_index=True,sort=False)\n",
    "world11pm_plusnew7cols=pd.concat(df10_files, ignore_index=True,sort=False)\n",
    "\n",
    "world11pm_plusnew13cols.to_csv(\"final9.csv\")\n",
    "world11pm_plusnew7cols.to_csv(\"final10.csv\")"
   ]
  },
  {
   "cell_type": "code",
   "execution_count": 279,
   "metadata": {},
   "outputs": [
    {
     "data": {
      "text/html": [
       "<div>\n",
       "<style scoped>\n",
       "    .dataframe tbody tr th:only-of-type {\n",
       "        vertical-align: middle;\n",
       "    }\n",
       "\n",
       "    .dataframe tbody tr th {\n",
       "        vertical-align: top;\n",
       "    }\n",
       "\n",
       "    .dataframe thead th {\n",
       "        text-align: right;\n",
       "    }\n",
       "</style>\n",
       "<table border=\"1\" class=\"dataframe\">\n",
       "  <thead>\n",
       "    <tr style=\"text-align: right;\">\n",
       "      <th></th>\n",
       "      <th>Country</th>\n",
       "      <th>Total confirmed</th>\n",
       "      <th>Total_confirmed_today</th>\n",
       "      <th>Total_deaths</th>\n",
       "      <th>Total_deaths_today</th>\n",
       "      <th>Total_Recoveries</th>\n",
       "      <th>Total_Recoveries_today</th>\n",
       "      <th>Active_confirmed</th>\n",
       "      <th>Critical</th>\n",
       "      <th>Mortality_close</th>\n",
       "      <th>Mortality_confirmed</th>\n",
       "      <th>Total_tests</th>\n",
       "      <th>Total_tests_today</th>\n",
       "    </tr>\n",
       "  </thead>\n",
       "  <tbody>\n",
       "    <tr>\n",
       "      <td>0</td>\n",
       "      <td>united-states</td>\n",
       "      <td>1,129,882</td>\n",
       "      <td>35,152</td>\n",
       "      <td>65,724</td>\n",
       "      <td>1,883</td>\n",
       "      <td>161,551</td>\n",
       "      <td>9,227</td>\n",
       "      <td>902,607</td>\n",
       "      <td>16,478 (2%)</td>\n",
       "      <td>902,607</td>\n",
       "      <td>6%</td>\n",
       "      <td>6,690,837</td>\n",
       "      <td>314,371</td>\n",
       "    </tr>\n",
       "    <tr>\n",
       "      <td>1</td>\n",
       "      <td>spain</td>\n",
       "      <td>242,988</td>\n",
       "      <td>3,349</td>\n",
       "      <td>24,824</td>\n",
       "      <td>281</td>\n",
       "      <td>142,450</td>\n",
       "      <td>4,466</td>\n",
       "      <td>75,714</td>\n",
       "      <td>2,500 (3%)</td>\n",
       "      <td>75,714</td>\n",
       "      <td>10%</td>\n",
       "      <td>1,528,833</td>\n",
       "      <td>73,527</td>\n",
       "    </tr>\n",
       "    <tr>\n",
       "      <td>2</td>\n",
       "      <td>italy</td>\n",
       "      <td>207,428</td>\n",
       "      <td>1,965</td>\n",
       "      <td>28,236</td>\n",
       "      <td>269</td>\n",
       "      <td>78,249</td>\n",
       "      <td>2,304</td>\n",
       "      <td>100,943</td>\n",
       "      <td>1,578 (2%)</td>\n",
       "      <td>100,943</td>\n",
       "      <td>14%</td>\n",
       "      <td>2,053,425</td>\n",
       "      <td>74,208</td>\n",
       "    </tr>\n",
       "    <tr>\n",
       "      <td>3</td>\n",
       "      <td>united-kingdom</td>\n",
       "      <td>178,566</td>\n",
       "      <td>6,206</td>\n",
       "      <td>27,579</td>\n",
       "      <td>741</td>\n",
       "      <td>856</td>\n",
       "      <td>31</td>\n",
       "      <td>150,131</td>\n",
       "      <td>1,559 (1%)</td>\n",
       "      <td>150,131</td>\n",
       "      <td>15%</td>\n",
       "      <td>1,023,824</td>\n",
       "      <td>121,919</td>\n",
       "    </tr>\n",
       "    <tr>\n",
       "      <td>4</td>\n",
       "      <td>france</td>\n",
       "      <td>167,346</td>\n",
       "      <td>168</td>\n",
       "      <td>24,594</td>\n",
       "      <td>218</td>\n",
       "      <td>50,212</td>\n",
       "      <td>736</td>\n",
       "      <td>92,540</td>\n",
       "      <td>3,878 (4%)</td>\n",
       "      <td>92,540</td>\n",
       "      <td>15%</td>\n",
       "      <td>1,100,228</td>\n",
       "      <td>375,654</td>\n",
       "    </tr>\n",
       "  </tbody>\n",
       "</table>\n",
       "</div>"
      ],
      "text/plain": [
       "          Country Total confirmed Total_confirmed_today Total_deaths  \\\n",
       "0   united-states       1,129,882                35,152       65,724   \n",
       "1           spain         242,988                 3,349       24,824   \n",
       "2           italy         207,428                 1,965       28,236   \n",
       "3  united-kingdom         178,566                 6,206       27,579   \n",
       "4          france         167,346                   168       24,594   \n",
       "\n",
       "  Total_deaths_today Total_Recoveries Total_Recoveries_today Active_confirmed  \\\n",
       "0              1,883          161,551                  9,227          902,607   \n",
       "1                281          142,450                  4,466           75,714   \n",
       "2                269           78,249                  2,304          100,943   \n",
       "3                741              856                     31          150,131   \n",
       "4                218           50,212                    736           92,540   \n",
       "\n",
       "      Critical Mortality_close Mortality_confirmed Total_tests  \\\n",
       "0  16,478 (2%)         902,607                  6%   6,690,837   \n",
       "1   2,500 (3%)          75,714                 10%   1,528,833   \n",
       "2   1,578 (2%)         100,943                 14%   2,053,425   \n",
       "3   1,559 (1%)         150,131                 15%   1,023,824   \n",
       "4   3,878 (4%)          92,540                 15%   1,100,228   \n",
       "\n",
       "  Total_tests_today  \n",
       "0           314,371  \n",
       "1            73,527  \n",
       "2            74,208  \n",
       "3           121,919  \n",
       "4           375,654  "
      ]
     },
     "execution_count": 279,
     "metadata": {},
     "output_type": "execute_result"
    }
   ],
   "source": [
    "world11pm_plusnew13cols.head()"
   ]
  },
  {
   "cell_type": "code",
   "execution_count": 280,
   "metadata": {},
   "outputs": [
    {
     "data": {
      "text/html": [
       "<div>\n",
       "<style scoped>\n",
       "    .dataframe tbody tr th:only-of-type {\n",
       "        vertical-align: middle;\n",
       "    }\n",
       "\n",
       "    .dataframe tbody tr th {\n",
       "        vertical-align: top;\n",
       "    }\n",
       "\n",
       "    .dataframe thead th {\n",
       "        text-align: right;\n",
       "    }\n",
       "</style>\n",
       "<table border=\"1\" class=\"dataframe\">\n",
       "  <thead>\n",
       "    <tr style=\"text-align: right;\">\n",
       "      <th></th>\n",
       "      <th>Country</th>\n",
       "      <th>Total confirmed cases</th>\n",
       "      <th>Total deaths</th>\n",
       "      <th>Confirmed recoveries</th>\n",
       "      <th>Cases confirmed today</th>\n",
       "      <th>Deaths today</th>\n",
       "      <th>Recoveries confirmed today</th>\n",
       "    </tr>\n",
       "  </thead>\n",
       "  <tbody>\n",
       "    <tr>\n",
       "      <td>0</td>\n",
       "      <td>united-states</td>\n",
       "      <td>242,899</td>\n",
       "      <td>5,865</td>\n",
       "      <td>10,400</td>\n",
       "      <td>28,260</td>\n",
       "      <td>766</td>\n",
       "      <td>1,522</td>\n",
       "    </tr>\n",
       "    <tr>\n",
       "      <td>1</td>\n",
       "      <td>italy</td>\n",
       "      <td>115,242</td>\n",
       "      <td>13,915</td>\n",
       "      <td>18,278</td>\n",
       "      <td>4,668</td>\n",
       "      <td>760</td>\n",
       "      <td>1,431</td>\n",
       "    </tr>\n",
       "    <tr>\n",
       "      <td>2</td>\n",
       "      <td>spain</td>\n",
       "      <td>112,065</td>\n",
       "      <td>10,348</td>\n",
       "      <td>26,743</td>\n",
       "      <td>7,947</td>\n",
       "      <td>961</td>\n",
       "      <td>4,096</td>\n",
       "    </tr>\n",
       "    <tr>\n",
       "      <td>3</td>\n",
       "      <td>germany</td>\n",
       "      <td>84,794</td>\n",
       "      <td>1,107</td>\n",
       "      <td>22,440</td>\n",
       "      <td>6,813</td>\n",
       "      <td>176</td>\n",
       "      <td>3,740</td>\n",
       "    </tr>\n",
       "    <tr>\n",
       "      <td>4</td>\n",
       "      <td>china</td>\n",
       "      <td>82,413</td>\n",
       "      <td>3,322</td>\n",
       "      <td>76,546</td>\n",
       "      <td>53</td>\n",
       "      <td>6</td>\n",
       "      <td>142</td>\n",
       "    </tr>\n",
       "  </tbody>\n",
       "</table>\n",
       "</div>"
      ],
      "text/plain": [
       "         Country Total confirmed cases Total deaths Confirmed recoveries  \\\n",
       "0  united-states               242,899        5,865               10,400   \n",
       "1          italy               115,242       13,915               18,278   \n",
       "2          spain               112,065       10,348               26,743   \n",
       "3        germany                84,794        1,107               22,440   \n",
       "4          china                82,413        3,322               76,546   \n",
       "\n",
       "  Cases confirmed today Deaths today Recoveries confirmed today  \n",
       "0                28,260          766                      1,522  \n",
       "1                 4,668          760                      1,431  \n",
       "2                 7,947          961                      4,096  \n",
       "3                 6,813          176                      3,740  \n",
       "4                    53            6                        142  "
      ]
     },
     "execution_count": 280,
     "metadata": {},
     "output_type": "execute_result"
    }
   ],
   "source": [
    "world11pm_plusnew7cols.head()"
   ]
  },
  {
   "cell_type": "code",
   "execution_count": 281,
   "metadata": {},
   "outputs": [],
   "source": [
    "world11pm_plusnew7cols.replace(\"united-states\",\"USA\",inplace=True)\n",
    "world11pm_plusnew13cols.replace(\"united-states\",\"USA\",inplace=True)"
   ]
  },
  {
   "cell_type": "code",
   "execution_count": 283,
   "metadata": {},
   "outputs": [],
   "source": [
    "world11pm_plusnew7cols.rename(columns={\"Total confirmed cases\":\"Total confirmed\",\"Total deaths\":\"Total_deaths\",\"Cases confirmed today\":\"Total_confirmed_today\"},inplace=True)"
   ]
  },
  {
   "cell_type": "code",
   "execution_count": 284,
   "metadata": {},
   "outputs": [],
   "source": [
    "world11pm_plusnew7cols.drop([\"Total_deaths\",\"Confirmed recoveries\",\"Deaths today\",\"Recoveries confirmed today\"],axis=1,inplace=True)"
   ]
  },
  {
   "cell_type": "code",
   "execution_count": 285,
   "metadata": {},
   "outputs": [
    {
     "data": {
      "text/html": [
       "<div>\n",
       "<style scoped>\n",
       "    .dataframe tbody tr th:only-of-type {\n",
       "        vertical-align: middle;\n",
       "    }\n",
       "\n",
       "    .dataframe tbody tr th {\n",
       "        vertical-align: top;\n",
       "    }\n",
       "\n",
       "    .dataframe thead th {\n",
       "        text-align: right;\n",
       "    }\n",
       "</style>\n",
       "<table border=\"1\" class=\"dataframe\">\n",
       "  <thead>\n",
       "    <tr style=\"text-align: right;\">\n",
       "      <th></th>\n",
       "      <th>Country</th>\n",
       "      <th>Total confirmed</th>\n",
       "      <th>Total_confirmed_today</th>\n",
       "    </tr>\n",
       "  </thead>\n",
       "  <tbody>\n",
       "    <tr>\n",
       "      <td>0</td>\n",
       "      <td>USA</td>\n",
       "      <td>242,899</td>\n",
       "      <td>28,260</td>\n",
       "    </tr>\n",
       "    <tr>\n",
       "      <td>1</td>\n",
       "      <td>italy</td>\n",
       "      <td>115,242</td>\n",
       "      <td>4,668</td>\n",
       "    </tr>\n",
       "    <tr>\n",
       "      <td>2</td>\n",
       "      <td>spain</td>\n",
       "      <td>112,065</td>\n",
       "      <td>7,947</td>\n",
       "    </tr>\n",
       "    <tr>\n",
       "      <td>3</td>\n",
       "      <td>germany</td>\n",
       "      <td>84,794</td>\n",
       "      <td>6,813</td>\n",
       "    </tr>\n",
       "    <tr>\n",
       "      <td>4</td>\n",
       "      <td>china</td>\n",
       "      <td>82,413</td>\n",
       "      <td>53</td>\n",
       "    </tr>\n",
       "  </tbody>\n",
       "</table>\n",
       "</div>"
      ],
      "text/plain": [
       "   Country Total confirmed Total_confirmed_today\n",
       "0      USA         242,899                28,260\n",
       "1    italy         115,242                 4,668\n",
       "2    spain         112,065                 7,947\n",
       "3  germany          84,794                 6,813\n",
       "4    china          82,413                    53"
      ]
     },
     "execution_count": 285,
     "metadata": {},
     "output_type": "execute_result"
    }
   ],
   "source": [
    "world11pm_plusnew7cols.head()"
   ]
  },
  {
   "cell_type": "code",
   "execution_count": 286,
   "metadata": {},
   "outputs": [],
   "source": [
    "# Concatenating the 13 columns and 7 columns table\n",
    "world11pm_pluscombined=pd.concat([world11pm_plusnew13cols,world11pm_plusnew7cols],ignore_index=True,sort=False)"
   ]
  },
  {
   "cell_type": "code",
   "execution_count": 287,
   "metadata": {},
   "outputs": [],
   "source": [
    "worldapr11pm_pluscombined.dropna(axis=1,inplace=True)"
   ]
  },
  {
   "cell_type": "code",
   "execution_count": 288,
   "metadata": {},
   "outputs": [],
   "source": [
    "def text_clean(mess):\n",
    "    \"\"\"\n",
    "    1.remove punc\n",
    "    2.return integer\n",
    "    \"\"\"\n",
    "    if type(mess)== str:\n",
    "        nopunc=[ch for ch in mess if ch not in string.punctuation]\n",
    "        nopunc=\"\".join(nopunc)\n",
    "        for word in nopunc.split(): \n",
    "            if word not in string.punctuation:\n",
    "                return int(word)   \n",
    "    else:\n",
    "        return int(mess)"
   ]
  },
  {
   "cell_type": "code",
   "execution_count": 290,
   "metadata": {},
   "outputs": [],
   "source": [
    "## convert string in series to int\n",
    "world11pm_pluscombined[\"Total_confirmed_today\"]=pd.DataFrame(world11pm_pluscombined[\"Total_confirmed_today\"].apply(text_clean), columns=[\"Total_confirmed_today\"])\n",
    "world11pm_pluscombined[\"Total confirmed\"]=pd.DataFrame(world11pm_pluscombined[\"Total confirmed\"].apply(text_clean), columns=[\"Total confirmed\"])"
   ]
  },
  {
   "cell_type": "code",
   "execution_count": 295,
   "metadata": {},
   "outputs": [
    {
     "data": {
      "text/html": [
       "<div>\n",
       "<style scoped>\n",
       "    .dataframe tbody tr th:only-of-type {\n",
       "        vertical-align: middle;\n",
       "    }\n",
       "\n",
       "    .dataframe tbody tr th {\n",
       "        vertical-align: top;\n",
       "    }\n",
       "\n",
       "    .dataframe thead th {\n",
       "        text-align: right;\n",
       "    }\n",
       "</style>\n",
       "<table border=\"1\" class=\"dataframe\">\n",
       "  <thead>\n",
       "    <tr style=\"text-align: right;\">\n",
       "      <th></th>\n",
       "      <th>Country</th>\n",
       "      <th>Total confirmed</th>\n",
       "      <th>Total_confirmed_today</th>\n",
       "      <th>Total_deaths</th>\n",
       "      <th>Total_deaths_today</th>\n",
       "      <th>Total_Recoveries</th>\n",
       "      <th>Total_Recoveries_today</th>\n",
       "      <th>Active_confirmed</th>\n",
       "      <th>Critical</th>\n",
       "      <th>Mortality_close</th>\n",
       "      <th>Mortality_confirmed</th>\n",
       "      <th>Total_tests</th>\n",
       "      <th>Total_tests_today</th>\n",
       "    </tr>\n",
       "  </thead>\n",
       "  <tbody>\n",
       "    <tr>\n",
       "      <td>0</td>\n",
       "      <td>USA</td>\n",
       "      <td>1129882</td>\n",
       "      <td>35152</td>\n",
       "      <td>65,724</td>\n",
       "      <td>1,883</td>\n",
       "      <td>161,551</td>\n",
       "      <td>9,227</td>\n",
       "      <td>902,607</td>\n",
       "      <td>16,478 (2%)</td>\n",
       "      <td>902,607</td>\n",
       "      <td>6%</td>\n",
       "      <td>6,690,837</td>\n",
       "      <td>314,371</td>\n",
       "    </tr>\n",
       "    <tr>\n",
       "      <td>1</td>\n",
       "      <td>spain</td>\n",
       "      <td>242988</td>\n",
       "      <td>3349</td>\n",
       "      <td>24,824</td>\n",
       "      <td>281</td>\n",
       "      <td>142,450</td>\n",
       "      <td>4,466</td>\n",
       "      <td>75,714</td>\n",
       "      <td>2,500 (3%)</td>\n",
       "      <td>75,714</td>\n",
       "      <td>10%</td>\n",
       "      <td>1,528,833</td>\n",
       "      <td>73,527</td>\n",
       "    </tr>\n",
       "    <tr>\n",
       "      <td>2</td>\n",
       "      <td>italy</td>\n",
       "      <td>207428</td>\n",
       "      <td>1965</td>\n",
       "      <td>28,236</td>\n",
       "      <td>269</td>\n",
       "      <td>78,249</td>\n",
       "      <td>2,304</td>\n",
       "      <td>100,943</td>\n",
       "      <td>1,578 (2%)</td>\n",
       "      <td>100,943</td>\n",
       "      <td>14%</td>\n",
       "      <td>2,053,425</td>\n",
       "      <td>74,208</td>\n",
       "    </tr>\n",
       "    <tr>\n",
       "      <td>3</td>\n",
       "      <td>united-kingdom</td>\n",
       "      <td>178566</td>\n",
       "      <td>6206</td>\n",
       "      <td>27,579</td>\n",
       "      <td>741</td>\n",
       "      <td>856</td>\n",
       "      <td>31</td>\n",
       "      <td>150,131</td>\n",
       "      <td>1,559 (1%)</td>\n",
       "      <td>150,131</td>\n",
       "      <td>15%</td>\n",
       "      <td>1,023,824</td>\n",
       "      <td>121,919</td>\n",
       "    </tr>\n",
       "    <tr>\n",
       "      <td>4</td>\n",
       "      <td>france</td>\n",
       "      <td>167346</td>\n",
       "      <td>168</td>\n",
       "      <td>24,594</td>\n",
       "      <td>218</td>\n",
       "      <td>50,212</td>\n",
       "      <td>736</td>\n",
       "      <td>92,540</td>\n",
       "      <td>3,878 (4%)</td>\n",
       "      <td>92,540</td>\n",
       "      <td>15%</td>\n",
       "      <td>1,100,228</td>\n",
       "      <td>375,654</td>\n",
       "    </tr>\n",
       "  </tbody>\n",
       "</table>\n",
       "</div>"
      ],
      "text/plain": [
       "          Country  Total confirmed  Total_confirmed_today Total_deaths  \\\n",
       "0             USA          1129882                  35152       65,724   \n",
       "1           spain           242988                   3349       24,824   \n",
       "2           italy           207428                   1965       28,236   \n",
       "3  united-kingdom           178566                   6206       27,579   \n",
       "4          france           167346                    168       24,594   \n",
       "\n",
       "  Total_deaths_today Total_Recoveries Total_Recoveries_today Active_confirmed  \\\n",
       "0              1,883          161,551                  9,227          902,607   \n",
       "1                281          142,450                  4,466           75,714   \n",
       "2                269           78,249                  2,304          100,943   \n",
       "3                741              856                     31          150,131   \n",
       "4                218           50,212                    736           92,540   \n",
       "\n",
       "      Critical Mortality_close Mortality_confirmed Total_tests  \\\n",
       "0  16,478 (2%)         902,607                  6%   6,690,837   \n",
       "1   2,500 (3%)          75,714                 10%   1,528,833   \n",
       "2   1,578 (2%)         100,943                 14%   2,053,425   \n",
       "3   1,559 (1%)         150,131                 15%   1,023,824   \n",
       "4   3,878 (4%)          92,540                 15%   1,100,228   \n",
       "\n",
       "  Total_tests_today  \n",
       "0           314,371  \n",
       "1            73,527  \n",
       "2            74,208  \n",
       "3           121,919  \n",
       "4           375,654  "
      ]
     },
     "execution_count": 295,
     "metadata": {},
     "output_type": "execute_result"
    }
   ],
   "source": [
    "world11pm_pluscombined.head()"
   ]
  },
  {
   "cell_type": "markdown",
   "metadata": {},
   "source": [
    "# GERMANY CASES"
   ]
  },
  {
   "cell_type": "code",
   "execution_count": 293,
   "metadata": {},
   "outputs": [
    {
     "name": "stdout",
     "output_type": "stream",
     "text": [
      "Total cases in GERMANY during this period using daily confirmed cases:  62327\n"
     ]
    }
   ],
   "source": [
    "print(\"Total cases in GERMANY during this period using daily confirmed cases: \",world11pm_pluscombined[world11pm_pluscombined[\"Country\"]==\"germany\"][\"Total_confirmed_today\"].sum())"
   ]
  },
  {
   "cell_type": "code",
   "execution_count": null,
   "metadata": {},
   "outputs": [],
   "source": [
    "a=world11pm_pluscombined[world11pm_pluscombined[\"Country\"]==\"germany\"][\"Total_confirmed_today\"].sum()"
   ]
  },
  {
   "cell_type": "code",
   "execution_count": 294,
   "metadata": {},
   "outputs": [
    {
     "name": "stdout",
     "output_type": "stream",
     "text": [
      "Total cases in GERMANY during this period using Total confirmed cases:  95534\n"
     ]
    }
   ],
   "source": [
    "print(\"Total cases in GERMANY during this period using Total confirmed cases: \",world11pm_pluscombined[world11pm_pluscombined[\"Country\"]==\"germany\"][\"Total confirmed\"].max()-world11pm_pluscombined[world11pm_pluscombined[\"Country\"]==\"germany\"][\"Total confirmed\"].min())"
   ]
  },
  {
   "cell_type": "markdown",
   "metadata": {},
   "source": [
    "# USA CASES"
   ]
  },
  {
   "cell_type": "code",
   "execution_count": 297,
   "metadata": {},
   "outputs": [
    {
     "name": "stdout",
     "output_type": "stream",
     "text": [
      "Total cases in USA during this period using daily confirmed cases:  1405319\n"
     ]
    }
   ],
   "source": [
    "print(\"Total cases in USA during this period using daily confirmed cases: \",world11pm_pluscombined[world11pm_pluscombined[\"Country\"]==\"USA\"][\"Total_confirmed_today\"].sum())"
   ]
  },
  {
   "cell_type": "code",
   "execution_count": 298,
   "metadata": {},
   "outputs": [
    {
     "name": "stdout",
     "output_type": "stream",
     "text": [
      "Total cases in USA during this period using Total confirmed cases:  1685163\n"
     ]
    }
   ],
   "source": [
    "print(\"Total cases in USA during this period using Total confirmed cases: \",world11pm_pluscombined[world11pm_pluscombined[\"Country\"]==\"USA\"][\"Total confirmed\"].max()-world11pm_pluscombined[world11pm_pluscombined[\"Country\"]==\"USA\"][\"Total confirmed\"].min())"
   ]
  },
  {
   "cell_type": "markdown",
   "metadata": {},
   "source": [
    "# ITALY CASES"
   ]
  },
  {
   "cell_type": "code",
   "execution_count": 302,
   "metadata": {},
   "outputs": [
    {
     "name": "stdout",
     "output_type": "stream",
     "text": [
      "Total cases in Italy during this period using daily confirmed cases:  75466\n"
     ]
    }
   ],
   "source": [
    "print(\"Total cases in Italy during this period using daily confirmed cases: \",world11pm_pluscombined[world11pm_pluscombined[\"Country\"]==\"italy\"][\"Total_confirmed_today\"].sum())"
   ]
  },
  {
   "cell_type": "code",
   "execution_count": 303,
   "metadata": {},
   "outputs": [
    {
     "name": "stdout",
     "output_type": "stream",
     "text": [
      "Total cases in Italy during this period using Total confirmed cases:  114616\n"
     ]
    }
   ],
   "source": [
    "print(\"Total cases in Italy during this period using Total confirmed cases: \",world11pm_pluscombined[world11pm_pluscombined[\"Country\"]==\"italy\"][\"Total confirmed\"].max()-world11pm_pluscombined[world11pm_pluscombined[\"Country\"]==\"italy\"][\"Total confirmed\"].min())"
   ]
  },
  {
   "cell_type": "markdown",
   "metadata": {},
   "source": [
    "# RUSSIA CASES"
   ]
  },
  {
   "cell_type": "code",
   "execution_count": 305,
   "metadata": {},
   "outputs": [
    {
     "name": "stdout",
     "output_type": "stream",
     "text": [
      "Total cases in Russia during this period using daily confirmed cases:  301517\n"
     ]
    }
   ],
   "source": [
    "print(\"Total cases in Russia during this period using daily confirmed cases: \",world11pm_pluscombined[world11pm_pluscombined[\"Country\"]==\"russia\"][\"Total_confirmed_today\"].sum())"
   ]
  },
  {
   "cell_type": "code",
   "execution_count": 306,
   "metadata": {},
   "outputs": [
    {
     "name": "stdout",
     "output_type": "stream",
     "text": [
      "Total cases in Russia during this period using Total confirmed cases:  340933\n"
     ]
    }
   ],
   "source": [
    "print(\"Total cases in Russia during this period using Total confirmed cases: \",world11pm_pluscombined[world11pm_pluscombined[\"Country\"]==\"russia\"][\"Total confirmed\"].max()-world11pm_pluscombined[world11pm_pluscombined[\"Country\"]==\"russia\"][\"Total confirmed\"].min())"
   ]
  },
  {
   "cell_type": "markdown",
   "metadata": {},
   "source": [
    "# CHINA CASES"
   ]
  },
  {
   "cell_type": "code",
   "execution_count": 309,
   "metadata": {},
   "outputs": [
    {
     "name": "stdout",
     "output_type": "stream",
     "text": [
      "Total cases in China during this period using daily confirmed cases:  974\n"
     ]
    }
   ],
   "source": [
    "print(\"Total cases in China during this period using daily confirmed cases: \",world11pm_pluscombined[world11pm_pluscombined[\"Country\"]==\"china\"][\"Total_confirmed_today\"].sum())"
   ]
  },
  {
   "cell_type": "code",
   "execution_count": 310,
   "metadata": {},
   "outputs": [
    {
     "name": "stdout",
     "output_type": "stream",
     "text": [
      "Total cases in China during this period using Total confirmed cases:  1393\n"
     ]
    }
   ],
   "source": [
    "print(\"Total cases in China during this period using Total confirmed cases: \",world11pm_pluscombined[world11pm_pluscombined[\"Country\"]==\"china\"][\"Total confirmed\"].max()-world11pm_pluscombined[world11pm_pluscombined[\"Country\"]==\"china\"][\"Total confirmed\"].min())"
   ]
  },
  {
   "cell_type": "code",
   "execution_count": 313,
   "metadata": {},
   "outputs": [],
   "source": [
    "a=world11pm_pluscombined[world11pm_pluscombined[\"Country\"]==\"germany\"][\"Total_confirmed_today\"].sum()\n",
    "b=world11pm_pluscombined[world11pm_pluscombined[\"Country\"]==\"USA\"][\"Total_confirmed_today\"].sum()\n",
    "c=world11pm_pluscombined[world11pm_pluscombined[\"Country\"]==\"italy\"][\"Total_confirmed_today\"].sum()\n",
    "d=world11pm_pluscombined[world11pm_pluscombined[\"Country\"]==\"russia\"][\"Total_confirmed_today\"].sum()\n",
    "e=world11pm_pluscombined[world11pm_pluscombined[\"Country\"]==\"china\"][\"Total_confirmed_today\"].sum()"
   ]
  },
  {
   "cell_type": "code",
   "execution_count": 320,
   "metadata": {},
   "outputs": [
    {
     "data": {
      "text/html": [
       "<div>\n",
       "<style scoped>\n",
       "    .dataframe tbody tr th:only-of-type {\n",
       "        vertical-align: middle;\n",
       "    }\n",
       "\n",
       "    .dataframe tbody tr th {\n",
       "        vertical-align: top;\n",
       "    }\n",
       "\n",
       "    .dataframe thead th {\n",
       "        text-align: right;\n",
       "    }\n",
       "</style>\n",
       "<table border=\"1\" class=\"dataframe\">\n",
       "  <thead>\n",
       "    <tr style=\"text-align: right;\">\n",
       "      <th></th>\n",
       "      <th>Country</th>\n",
       "      <th>Cases</th>\n",
       "    </tr>\n",
       "  </thead>\n",
       "  <tbody>\n",
       "    <tr>\n",
       "      <td>0</td>\n",
       "      <td>Germany</td>\n",
       "      <td>62327</td>\n",
       "    </tr>\n",
       "    <tr>\n",
       "      <td>1</td>\n",
       "      <td>USA</td>\n",
       "      <td>1405319</td>\n",
       "    </tr>\n",
       "    <tr>\n",
       "      <td>2</td>\n",
       "      <td>Italy</td>\n",
       "      <td>75466</td>\n",
       "    </tr>\n",
       "    <tr>\n",
       "      <td>3</td>\n",
       "      <td>Russia</td>\n",
       "      <td>301517</td>\n",
       "    </tr>\n",
       "    <tr>\n",
       "      <td>4</td>\n",
       "      <td>China</td>\n",
       "      <td>974</td>\n",
       "    </tr>\n",
       "  </tbody>\n",
       "</table>\n",
       "</div>"
      ],
      "text/plain": [
       "   Country    Cases\n",
       "0  Germany    62327\n",
       "1      USA  1405319\n",
       "2    Italy    75466\n",
       "3   Russia   301517\n",
       "4    China      974"
      ]
     },
     "execution_count": 320,
     "metadata": {},
     "output_type": "execute_result"
    }
   ],
   "source": [
    "xy={\"Country\":[\"Germany\",\"USA\",\"Italy\",\"Russia\",\"China\"], \"Cases\":[a,b,c,d,e]}\n",
    "pd.DataFrame(xy)"
   ]
  },
  {
   "cell_type": "code",
   "execution_count": 321,
   "metadata": {},
   "outputs": [],
   "source": [
    "f=world11pm_pluscombined[world11pm_pluscombined[\"Country\"]==\"germany\"][\"Total confirmed\"].max()-world11pm_pluscombined[world11pm_pluscombined[\"Country\"]==\"germany\"][\"Total confirmed\"].min()\n",
    "g=world11pm_pluscombined[world11pm_pluscombined[\"Country\"]==\"USA\"][\"Total confirmed\"].max()-world11pm_pluscombined[world11pm_pluscombined[\"Country\"]==\"USA\"][\"Total confirmed\"].min()\n",
    "h=world11pm_pluscombined[world11pm_pluscombined[\"Country\"]==\"italy\"][\"Total confirmed\"].max()-world11pm_pluscombined[world11pm_pluscombined[\"Country\"]==\"italy\"][\"Total confirmed\"].min()\n",
    "i=world11pm_pluscombined[world11pm_pluscombined[\"Country\"]==\"russia\"][\"Total confirmed\"].max()-world11pm_pluscombined[world11pm_pluscombined[\"Country\"]==\"russia\"][\"Total confirmed\"].min()\n",
    "j=world11pm_pluscombined[world11pm_pluscombined[\"Country\"]==\"china\"][\"Total confirmed\"].max()-world11pm_pluscombined[world11pm_pluscombined[\"Country\"]==\"china\"][\"Total confirmed\"].min()\n"
   ]
  },
  {
   "cell_type": "code",
   "execution_count": 322,
   "metadata": {},
   "outputs": [
    {
     "data": {
      "text/html": [
       "<div>\n",
       "<style scoped>\n",
       "    .dataframe tbody tr th:only-of-type {\n",
       "        vertical-align: middle;\n",
       "    }\n",
       "\n",
       "    .dataframe tbody tr th {\n",
       "        vertical-align: top;\n",
       "    }\n",
       "\n",
       "    .dataframe thead th {\n",
       "        text-align: right;\n",
       "    }\n",
       "</style>\n",
       "<table border=\"1\" class=\"dataframe\">\n",
       "  <thead>\n",
       "    <tr style=\"text-align: right;\">\n",
       "      <th></th>\n",
       "      <th>Country</th>\n",
       "      <th>Cases</th>\n",
       "    </tr>\n",
       "  </thead>\n",
       "  <tbody>\n",
       "    <tr>\n",
       "      <td>0</td>\n",
       "      <td>Germany</td>\n",
       "      <td>95534</td>\n",
       "    </tr>\n",
       "    <tr>\n",
       "      <td>1</td>\n",
       "      <td>USA</td>\n",
       "      <td>1685163</td>\n",
       "    </tr>\n",
       "    <tr>\n",
       "      <td>2</td>\n",
       "      <td>Italy</td>\n",
       "      <td>114616</td>\n",
       "    </tr>\n",
       "    <tr>\n",
       "      <td>3</td>\n",
       "      <td>Russia</td>\n",
       "      <td>340933</td>\n",
       "    </tr>\n",
       "    <tr>\n",
       "      <td>4</td>\n",
       "      <td>China</td>\n",
       "      <td>1393</td>\n",
       "    </tr>\n",
       "  </tbody>\n",
       "</table>\n",
       "</div>"
      ],
      "text/plain": [
       "   Country    Cases\n",
       "0  Germany    95534\n",
       "1      USA  1685163\n",
       "2    Italy   114616\n",
       "3   Russia   340933\n",
       "4    China     1393"
      ]
     },
     "execution_count": 322,
     "metadata": {},
     "output_type": "execute_result"
    }
   ],
   "source": [
    "xz={\"Country\":[\"Germany\",\"USA\",\"Italy\",\"Russia\",\"China\"], \"Cases\":[f,g,h,i,j]}\n",
    "pd.DataFrame(xz)"
   ]
  },
  {
   "cell_type": "code",
   "execution_count": null,
   "metadata": {},
   "outputs": [],
   "source": []
  }
 ],
 "metadata": {
  "kernelspec": {
   "display_name": "Python 3",
   "language": "python",
   "name": "python3"
  },
  "language_info": {
   "codemirror_mode": {
    "name": "ipython",
    "version": 3
   },
   "file_extension": ".py",
   "mimetype": "text/x-python",
   "name": "python",
   "nbconvert_exporter": "python",
   "pygments_lexer": "ipython3",
   "version": "3.7.4"
  }
 },
 "nbformat": 4,
 "nbformat_minor": 2
}
